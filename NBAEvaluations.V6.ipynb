{
 "cells": [
  {
   "cell_type": "markdown",
   "metadata": {},
   "source": [
    "# NBA Machine Learning Model\n",
    "\n",
    "The NBA's Most Valuable Player award goes to player that contributes the most to their team's success, as well as their own personal statistics, over the course of the regular season. 100 voters are selected by the organization and decide on which of the most successful players receiev this award. While the MVP is supposed to go to the best player in the leage, there is often discourse surrounding the voting criteria, and whether or not a player's name or aspects like popularity contribute to the outcome of MVP voting. In our project, we aim to separate the player's performance from their name and use an anonymous player's statistics to predict if they are worthy of the Most Valuable Player award. We create different machine learning models constisting of a nearest neighbor, a support vector machine, and a decision tree model to establish a strong method of classification for the Most Valuable Player award. We pull our data from a reputable source, basketball-reference.com, and look at the most relevant data from 2018 to 2023, excluding the 2021 season due to COVID. In this project, we will analyze the most relevant factors when considering the MVP award winner and create multiple machine learning models capable of this classification task."
   ]
  },
  {
   "cell_type": "markdown",
   "metadata": {},
   "source": [
    "### Import Libraries"
   ]
  },
  {
   "cell_type": "code",
   "execution_count": 2,
   "metadata": {},
   "outputs": [],
   "source": [
    "# Import necessary libraries\n",
    "\n",
    "import pandas as pd\n",
    "import matplotlib.pyplot as plt\n",
    "import seaborn as sns\n",
    "from sklearn.linear_model import LinearRegression\n",
    "import numpy as np\n",
    "import random\n",
    "from sklearn.neighbors import KNeighborsClassifier\n",
    "from sklearn.model_selection import train_test_split\n",
    "from sklearn.ensemble import ExtraTreesClassifier\n",
    "from sklearn.feature_selection import SelectFromModel\n",
    "from sklearn.model_selection import GridSearchCV\n",
    "from sklearn.metrics import classification_report, accuracy_score\n",
    "from sklearn.svm import SVC\n",
    "from sklearn.preprocessing import StandardScaler\n",
    "from sklearn.tree import DecisionTreeClassifier\n",
    "from sklearn import tree"
   ]
  },
  {
   "cell_type": "markdown",
   "metadata": {},
   "source": [
    "## Performing EDA\n",
    "\n",
    "The following code blocks will be used to perform EDA on our dataset. This includes handling datatypes, null values, duplicate rows, and other problems that our uncleaned data may have."
   ]
  },
  {
   "cell_type": "markdown",
   "metadata": {},
   "source": [
    "### Web Scrape data into Pandas Dataframes\n",
    "\n",
    "Step 1 is to get our data from some source. For this probject, our data will come from web sraping www.basketball-reference.com for player stats for each year of the NBA."
   ]
  },
  {
   "cell_type": "code",
   "execution_count": 3,
   "metadata": {},
   "outputs": [
    {
     "data": {
      "text/html": [
       "<div>\n",
       "<style scoped>\n",
       "    .dataframe tbody tr th:only-of-type {\n",
       "        vertical-align: middle;\n",
       "    }\n",
       "\n",
       "    .dataframe tbody tr th {\n",
       "        vertical-align: top;\n",
       "    }\n",
       "\n",
       "    .dataframe thead th {\n",
       "        text-align: right;\n",
       "    }\n",
       "</style>\n",
       "<table border=\"1\" class=\"dataframe\">\n",
       "  <thead>\n",
       "    <tr style=\"text-align: right;\">\n",
       "      <th></th>\n",
       "      <th>Rk</th>\n",
       "      <th>Player</th>\n",
       "      <th>Pos</th>\n",
       "      <th>Age</th>\n",
       "      <th>Tm</th>\n",
       "      <th>G</th>\n",
       "      <th>GS</th>\n",
       "      <th>MP</th>\n",
       "      <th>FG</th>\n",
       "      <th>FGA</th>\n",
       "      <th>...</th>\n",
       "      <th>FT%</th>\n",
       "      <th>ORB</th>\n",
       "      <th>DRB</th>\n",
       "      <th>TRB</th>\n",
       "      <th>AST</th>\n",
       "      <th>STL</th>\n",
       "      <th>BLK</th>\n",
       "      <th>TOV</th>\n",
       "      <th>PF</th>\n",
       "      <th>PTS</th>\n",
       "    </tr>\n",
       "  </thead>\n",
       "  <tbody>\n",
       "    <tr>\n",
       "      <th>0</th>\n",
       "      <td>1</td>\n",
       "      <td>Precious Achiuwa</td>\n",
       "      <td>C</td>\n",
       "      <td>23</td>\n",
       "      <td>TOR</td>\n",
       "      <td>55</td>\n",
       "      <td>12</td>\n",
       "      <td>1140</td>\n",
       "      <td>196</td>\n",
       "      <td>404</td>\n",
       "      <td>...</td>\n",
       "      <td>.702</td>\n",
       "      <td>100</td>\n",
       "      <td>228</td>\n",
       "      <td>328</td>\n",
       "      <td>50</td>\n",
       "      <td>31</td>\n",
       "      <td>30</td>\n",
       "      <td>59</td>\n",
       "      <td>102</td>\n",
       "      <td>508</td>\n",
       "    </tr>\n",
       "    <tr>\n",
       "      <th>1</th>\n",
       "      <td>2</td>\n",
       "      <td>Steven Adams</td>\n",
       "      <td>C</td>\n",
       "      <td>29</td>\n",
       "      <td>MEM</td>\n",
       "      <td>42</td>\n",
       "      <td>42</td>\n",
       "      <td>1133</td>\n",
       "      <td>157</td>\n",
       "      <td>263</td>\n",
       "      <td>...</td>\n",
       "      <td>.364</td>\n",
       "      <td>214</td>\n",
       "      <td>271</td>\n",
       "      <td>485</td>\n",
       "      <td>97</td>\n",
       "      <td>36</td>\n",
       "      <td>46</td>\n",
       "      <td>79</td>\n",
       "      <td>98</td>\n",
       "      <td>361</td>\n",
       "    </tr>\n",
       "    <tr>\n",
       "      <th>2</th>\n",
       "      <td>3</td>\n",
       "      <td>Bam Adebayo</td>\n",
       "      <td>C</td>\n",
       "      <td>25</td>\n",
       "      <td>MIA</td>\n",
       "      <td>75</td>\n",
       "      <td>75</td>\n",
       "      <td>2598</td>\n",
       "      <td>602</td>\n",
       "      <td>1114</td>\n",
       "      <td>...</td>\n",
       "      <td>.806</td>\n",
       "      <td>184</td>\n",
       "      <td>504</td>\n",
       "      <td>688</td>\n",
       "      <td>240</td>\n",
       "      <td>88</td>\n",
       "      <td>61</td>\n",
       "      <td>187</td>\n",
       "      <td>208</td>\n",
       "      <td>1529</td>\n",
       "    </tr>\n",
       "    <tr>\n",
       "      <th>3</th>\n",
       "      <td>4</td>\n",
       "      <td>Ochai Agbaji</td>\n",
       "      <td>SG</td>\n",
       "      <td>22</td>\n",
       "      <td>UTA</td>\n",
       "      <td>59</td>\n",
       "      <td>22</td>\n",
       "      <td>1209</td>\n",
       "      <td>165</td>\n",
       "      <td>386</td>\n",
       "      <td>...</td>\n",
       "      <td>.812</td>\n",
       "      <td>43</td>\n",
       "      <td>78</td>\n",
       "      <td>121</td>\n",
       "      <td>67</td>\n",
       "      <td>16</td>\n",
       "      <td>15</td>\n",
       "      <td>41</td>\n",
       "      <td>99</td>\n",
       "      <td>467</td>\n",
       "    </tr>\n",
       "    <tr>\n",
       "      <th>4</th>\n",
       "      <td>5</td>\n",
       "      <td>Santi Aldama</td>\n",
       "      <td>PF</td>\n",
       "      <td>22</td>\n",
       "      <td>MEM</td>\n",
       "      <td>77</td>\n",
       "      <td>20</td>\n",
       "      <td>1682</td>\n",
       "      <td>247</td>\n",
       "      <td>525</td>\n",
       "      <td>...</td>\n",
       "      <td>.750</td>\n",
       "      <td>85</td>\n",
       "      <td>286</td>\n",
       "      <td>371</td>\n",
       "      <td>97</td>\n",
       "      <td>45</td>\n",
       "      <td>48</td>\n",
       "      <td>60</td>\n",
       "      <td>143</td>\n",
       "      <td>696</td>\n",
       "    </tr>\n",
       "  </tbody>\n",
       "</table>\n",
       "<p>5 rows × 30 columns</p>\n",
       "</div>"
      ],
      "text/plain": [
       "  Rk            Player Pos Age   Tm   G  GS    MP   FG   FGA  ...   FT%  ORB  \\\n",
       "0  1  Precious Achiuwa   C  23  TOR  55  12  1140  196   404  ...  .702  100   \n",
       "1  2      Steven Adams   C  29  MEM  42  42  1133  157   263  ...  .364  214   \n",
       "2  3       Bam Adebayo   C  25  MIA  75  75  2598  602  1114  ...  .806  184   \n",
       "3  4      Ochai Agbaji  SG  22  UTA  59  22  1209  165   386  ...  .812   43   \n",
       "4  5      Santi Aldama  PF  22  MEM  77  20  1682  247   525  ...  .750   85   \n",
       "\n",
       "   DRB  TRB  AST STL BLK  TOV   PF   PTS  \n",
       "0  228  328   50  31  30   59  102   508  \n",
       "1  271  485   97  36  46   79   98   361  \n",
       "2  504  688  240  88  61  187  208  1529  \n",
       "3   78  121   67  16  15   41   99   467  \n",
       "4  286  371   97  45  48   60  143   696  \n",
       "\n",
       "[5 rows x 30 columns]"
      ]
     },
     "execution_count": 3,
     "metadata": {},
     "output_type": "execute_result"
    }
   ],
   "source": [
    "# Get Last 5 Years of Overall Player Data (Excluding 2020 due to pandemic)\n",
    "url2023 = \"https://www.basketball-reference.com/leagues/NBA_2023_totals.html\"\n",
    "url2022 = \"https://www.basketball-reference.com/leagues/NBA_2022_totals.html\"\n",
    "url2021 = \"https://www.basketball-reference.com/leagues/NBA_2021_totals.html\"\n",
    "url2019 = \"https://www.basketball-reference.com/leagues/NBA_2019_totals.html\"\n",
    "url2018 = \"https://www.basketball-reference.com/leagues/NBA_2018_totals.html\"\n",
    "\n",
    "# Store each year's worth of data as it's own dataframe\n",
    "playerData2023 = pd.DataFrame(pd.read_html(url2023, header = 0)[0])\n",
    "playerData2022 = pd.DataFrame(pd.read_html(url2022, header = 0)[0])\n",
    "playerData2021 = pd.DataFrame(pd.read_html(url2021, header = 0)[0])\n",
    "playerData2019 = pd.DataFrame(pd.read_html(url2019, header = 0)[0])\n",
    "playerData2018 = pd.DataFrame(pd.read_html(url2018, header = 0)[0])\n",
    "\n",
    "playerData2023.head()\n"
   ]
  },
  {
   "cell_type": "markdown",
   "metadata": {},
   "source": [
    "### Clean the Data\n",
    "\n",
    "Right off the bat, we can easily start working with our data by properly setting datatypes, removing repeated instances of the header, and removing null values. The following code blocks handle these issues."
   ]
  },
  {
   "cell_type": "code",
   "execution_count": 4,
   "metadata": {},
   "outputs": [],
   "source": [
    "# Remove the rows of the table which are just repeats of the header for each dataframe\n",
    "def removeHeaderRepeats(dataframe):\n",
    "    return dataframe.drop(dataframe.loc[dataframe['Player'] == 'Player'].index)\n",
    "\n",
    "# Remove header rows for all data\n",
    "playerData2023 = removeHeaderRepeats(playerData2023)\n",
    "playerData2022 = removeHeaderRepeats(playerData2022)\n",
    "playerData2021 = removeHeaderRepeats(playerData2021)\n",
    "playerData2019 = removeHeaderRepeats(playerData2019)\n",
    "playerData2018 = removeHeaderRepeats(playerData2018)"
   ]
  },
  {
   "cell_type": "code",
   "execution_count": 5,
   "metadata": {},
   "outputs": [],
   "source": [
    "# Appropriately set datatypes for each dataframe and rename series for convenience\n",
    "def setDataTypes(dataframe):\n",
    "    dataframe['Age'] = dataframe['Age'].astype('Int32')\n",
    "    dataframe['G'] = dataframe['G'].astype('Int32')\n",
    "    dataframe['GS'] = dataframe['GS'].astype('Int32')\n",
    "    dataframe['MP'] = dataframe['MP'].astype('Int32')\n",
    "    dataframe['FG'] = dataframe['FG'].astype('Int32')\n",
    "    dataframe['FGA'] = dataframe['FGA'].astype('Int32')\n",
    "    dataframe['FG%'] = dataframe['FG%'].astype('double')\n",
    "    dataframe['3P'] = dataframe['3P'].astype('Int32')\n",
    "    dataframe['3PA'] = dataframe['3PA'].astype('Int32')\n",
    "    dataframe['3P%'] = dataframe['3P%'].astype('double')\n",
    "    dataframe['2P'] = dataframe['2P'].astype('Int32')\n",
    "    dataframe['2PA'] = dataframe['2PA'].astype('Int32')\n",
    "    dataframe['2P%'] = dataframe['2P%'].astype('double')\n",
    "    dataframe['eFG%'] = dataframe['eFG%'].astype('double')\n",
    "    dataframe['FT'] = dataframe['FT'].astype('Int32')\n",
    "    dataframe['FTA'] = dataframe['FTA'].astype('Int32')\n",
    "    dataframe['FT%'] = dataframe['FT%'].astype('double')\n",
    "    dataframe['FG'] = dataframe['FG'].astype('Int32')\n",
    "    dataframe['FGA'] = dataframe['FGA'].astype('Int32')\n",
    "    dataframe['FG%'] = dataframe['FG%'].astype('double')\n",
    "    dataframe['ORB'] = dataframe['ORB'].astype('Int32')\n",
    "    dataframe['DRB'] = dataframe['DRB'].astype('Int32')\n",
    "    dataframe['TRB'] = dataframe['TRB'].astype('Int32')\n",
    "    dataframe['AST'] = dataframe['AST'].astype('Int32')\n",
    "    dataframe['STL'] = dataframe['STL'].astype('Int32')\n",
    "    dataframe['BLK'] = dataframe['BLK'].astype('Int32')\n",
    "    dataframe['TOV'] = dataframe['TOV'].astype('Int32')\n",
    "    dataframe['PF'] = dataframe['PF'].astype('Int32')\n",
    "    dataframe['PTS'] = dataframe['PTS'].astype('Int32')\n",
    "\n",
    "    return dataframe\n",
    "\n",
    "# Set data types for all data, drop the rank row when reassigning variable, as it is not needed\n",
    "playerData2023 = setDataTypes(playerData2023).drop([\"Rk\"], axis=1)\n",
    "playerData2022 = setDataTypes(playerData2022).drop([\"Rk\"], axis=1)\n",
    "playerData2021 = setDataTypes(playerData2021).drop([\"Rk\"], axis=1)\n",
    "playerData2019 = setDataTypes(playerData2019).drop([\"Rk\"], axis=1)\n",
    "playerData2018 = setDataTypes(playerData2018).drop([\"Rk\"], axis=1)\n",
    "    "
   ]
  },
  {
   "cell_type": "code",
   "execution_count": 6,
   "metadata": {},
   "outputs": [],
   "source": [
    "# Replace all null values with zero. This is because null values only occur when a percentage can't be calculated because there are no attempts\n",
    "def replaceNullWithZero(dataframe):\n",
    "\n",
    "    for col in dataframe.columns:\n",
    "        dataframe[col] = dataframe[col].fillna(0)\n",
    "\n",
    "    return dataframe\n",
    "\n",
    "# Replace nulls with zero for all data\n",
    "playerData2023 = replaceNullWithZero(playerData2023)\n",
    "playerData2022 = replaceNullWithZero(playerData2022)\n",
    "playerData2021 = replaceNullWithZero(playerData2021)\n",
    "playerData2019 = replaceNullWithZero(playerData2019)\n",
    "playerData2018 = replaceNullWithZero(playerData2018)"
   ]
  },
  {
   "cell_type": "markdown",
   "metadata": {},
   "source": [
    "After handling datatypes and null values, we now have to handle duplicate rows. In our dataset, if a player changes team mid season, another entry for that exact player is entered into the table with the new team. However, we do not want to treat the same player on two different teams as two different players, so we need to combine each player's stat line on each team into one stat line. The following sections of code will handle this process."
   ]
  },
  {
   "cell_type": "code",
   "execution_count": 7,
   "metadata": {},
   "outputs": [],
   "source": [
    "#  Method to get rid of players who have played on multiple teams and keep their row with total\n",
    "def removeDuplicates(dataframe):\n",
    "    player_names = set(dataframe['Player'].tolist())\n",
    "    for name in player_names:\n",
    "\n",
    "        # Get all rows for current player\n",
    "        player_data = dataframe.loc[dataframe['Player'] == name]\n",
    "\n",
    "        # If multiple rows exist, only keep the total row\n",
    "        if (player_data.shape[0] > 1):\n",
    "\n",
    "            # only keep the row with total/combined data\n",
    "            player = player_data.loc[player_data['Tm'] == 'TOT']\n",
    "            dataframe = dataframe[dataframe['Player'] != name]\n",
    "            dataframe = pd.concat([dataframe, player], ignore_index=True)\n",
    "\n",
    "    # Return the dataframe\n",
    "    return dataframe\n",
    "\n"
   ]
  },
  {
   "cell_type": "code",
   "execution_count": 8,
   "metadata": {},
   "outputs": [],
   "source": [
    "playerData2023 = removeDuplicates(playerData2023)\n",
    "playerData2022 = removeDuplicates(playerData2022)\n",
    "playerData2021 = removeDuplicates(playerData2021)\n",
    "playerData2019 = removeDuplicates(playerData2019)\n",
    "playerData2018 = removeDuplicates(playerData2018)"
   ]
  },
  {
   "cell_type": "markdown",
   "metadata": {},
   "source": [
    "### Replacing the player names with an ID so that data can be analyzed anonamously\n",
    "\n",
    "One of the main biases we want to remove in this project is name-bias so that we do not over evaluate or under evaluate a player's performance based on their name and whatever reputation they might have. Therefore, we want to replace the names of each player with a unique ID number so that in our analysis, we do not draw any biased conclusions as to which players are good or not."
   ]
  },
  {
   "cell_type": "code",
   "execution_count": 9,
   "metadata": {},
   "outputs": [],
   "source": [
    "# Create a dictionary of player ID's as the key, and the value being the name of the player\n",
    "def mapNameToID(dataframe):\n",
    "\n",
    "    # Save all names as a list, create an initial dictionary\n",
    "    names = list(dataframe['Player'])\n",
    "    dictionary = {}\n",
    "    \n",
    "    # Assign a random unique id to each player\n",
    "    for name in names:\n",
    "        id = createID(dictionary)\n",
    "        dictionary[name] = id\n",
    "\n",
    "    # Return the dictionary\n",
    "    return dictionary\n",
    "\n",
    "\n",
    "# Create a unique random ID between 10000 and 20000\n",
    "def createID(dictionary):\n",
    "    \n",
    "    # Generate random integer\n",
    "    id = random.randint(10000, 20000)\n",
    "\n",
    "    # If already in dictionary, generate again\n",
    "    while (id in dictionary.keys()):\n",
    "        id = random.randint(10000, 20000)\n",
    "\n",
    "    # Return the id if unique\n",
    "    return id\n",
    "\n",
    "\n",
    "# Replace each name in the dataframe with the id number\n",
    "def replaceNamesWithID(dataframe, dictionary):\n",
    "    indices = dataframe.index\n",
    "\n",
    "    # Go through each row and replace the player name with the id\n",
    "    for index in indices:\n",
    "        name = dataframe['Player'].loc[index]\n",
    "        dataframe.at[index, 'Player'] = dictionary[name]\n",
    "\n",
    "    return dataframe\n",
    "\n",
    "\n",
    "# Store Mappings of players to ID for later\n",
    "ids_2023 = mapNameToID(playerData2023)\n",
    "ids_2022 = mapNameToID(playerData2022)\n",
    "ids_2021 = mapNameToID(playerData2021)\n",
    "ids_2019 = mapNameToID(playerData2019)\n",
    "ids_2018 = mapNameToID(playerData2018)\n",
    "\n",
    "\n",
    "# Replace names with IDs in all data\n",
    "playerData2023 = replaceNamesWithID(playerData2023, ids_2023)\n",
    "playerData2022 = replaceNamesWithID(playerData2022, ids_2022)\n",
    "playerData2021 = replaceNamesWithID(playerData2021, ids_2021)\n",
    "playerData2019 = replaceNamesWithID(playerData2019, ids_2019)\n",
    "playerData2018 = replaceNamesWithID(playerData2018, ids_2018)"
   ]
  },
  {
   "cell_type": "markdown",
   "metadata": {},
   "source": [
    "### Summarizing Data\n",
    "\n",
    "After performing our initial data cleaning, we can summarize our data to show general characteristics about one of our dataframes (a year of stats) which should inherently be similar to that of other years."
   ]
  },
  {
   "cell_type": "code",
   "execution_count": 10,
   "metadata": {},
   "outputs": [
    {
     "data": {
      "text/html": [
       "<div>\n",
       "<style scoped>\n",
       "    .dataframe tbody tr th:only-of-type {\n",
       "        vertical-align: middle;\n",
       "    }\n",
       "\n",
       "    .dataframe tbody tr th {\n",
       "        vertical-align: top;\n",
       "    }\n",
       "\n",
       "    .dataframe thead th {\n",
       "        text-align: right;\n",
       "    }\n",
       "</style>\n",
       "<table border=\"1\" class=\"dataframe\">\n",
       "  <thead>\n",
       "    <tr style=\"text-align: right;\">\n",
       "      <th></th>\n",
       "      <th>Age</th>\n",
       "      <th>G</th>\n",
       "      <th>GS</th>\n",
       "      <th>MP</th>\n",
       "      <th>FG</th>\n",
       "      <th>FGA</th>\n",
       "      <th>FG%</th>\n",
       "      <th>3P</th>\n",
       "      <th>3PA</th>\n",
       "      <th>3P%</th>\n",
       "      <th>...</th>\n",
       "      <th>FT%</th>\n",
       "      <th>ORB</th>\n",
       "      <th>DRB</th>\n",
       "      <th>TRB</th>\n",
       "      <th>AST</th>\n",
       "      <th>STL</th>\n",
       "      <th>BLK</th>\n",
       "      <th>TOV</th>\n",
       "      <th>PF</th>\n",
       "      <th>PTS</th>\n",
       "    </tr>\n",
       "  </thead>\n",
       "  <tbody>\n",
       "    <tr>\n",
       "      <th>count</th>\n",
       "      <td>539.0</td>\n",
       "      <td>539.0</td>\n",
       "      <td>539.0</td>\n",
       "      <td>539.0</td>\n",
       "      <td>539.0</td>\n",
       "      <td>539.0</td>\n",
       "      <td>539.000000</td>\n",
       "      <td>539.0</td>\n",
       "      <td>539.0</td>\n",
       "      <td>539.000000</td>\n",
       "      <td>...</td>\n",
       "      <td>539.000000</td>\n",
       "      <td>539.0</td>\n",
       "      <td>539.0</td>\n",
       "      <td>539.0</td>\n",
       "      <td>539.0</td>\n",
       "      <td>539.0</td>\n",
       "      <td>539.0</td>\n",
       "      <td>539.0</td>\n",
       "      <td>539.0</td>\n",
       "      <td>539.0</td>\n",
       "    </tr>\n",
       "    <tr>\n",
       "      <th>mean</th>\n",
       "      <td>25.727273</td>\n",
       "      <td>48.040816</td>\n",
       "      <td>22.820037</td>\n",
       "      <td>1103.593692</td>\n",
       "      <td>191.576994</td>\n",
       "      <td>403.003711</td>\n",
       "      <td>0.463258</td>\n",
       "      <td>56.324675</td>\n",
       "      <td>156.150278</td>\n",
       "      <td>0.315306</td>\n",
       "      <td>...</td>\n",
       "      <td>0.719918</td>\n",
       "      <td>47.623377</td>\n",
       "      <td>150.628942</td>\n",
       "      <td>198.252319</td>\n",
       "      <td>115.545455</td>\n",
       "      <td>33.270872</td>\n",
       "      <td>21.239332</td>\n",
       "      <td>61.298701</td>\n",
       "      <td>91.185529</td>\n",
       "      <td>523.426716</td>\n",
       "    </tr>\n",
       "    <tr>\n",
       "      <th>std</th>\n",
       "      <td>4.290326</td>\n",
       "      <td>24.650686</td>\n",
       "      <td>27.295285</td>\n",
       "      <td>827.778918</td>\n",
       "      <td>178.351286</td>\n",
       "      <td>369.600543</td>\n",
       "      <td>0.109669</td>\n",
       "      <td>60.916821</td>\n",
       "      <td>160.957017</td>\n",
       "      <td>0.137108</td>\n",
       "      <td>...</td>\n",
       "      <td>0.212791</td>\n",
       "      <td>52.119796</td>\n",
       "      <td>137.337655</td>\n",
       "      <td>181.82185</td>\n",
       "      <td>129.579185</td>\n",
       "      <td>28.337729</td>\n",
       "      <td>26.526487</td>\n",
       "      <td>58.279083</td>\n",
       "      <td>66.209893</td>\n",
       "      <td>498.085345</td>\n",
       "    </tr>\n",
       "    <tr>\n",
       "      <th>min</th>\n",
       "      <td>19.0</td>\n",
       "      <td>1.0</td>\n",
       "      <td>0.0</td>\n",
       "      <td>1.0</td>\n",
       "      <td>0.0</td>\n",
       "      <td>0.0</td>\n",
       "      <td>0.000000</td>\n",
       "      <td>0.0</td>\n",
       "      <td>0.0</td>\n",
       "      <td>0.000000</td>\n",
       "      <td>...</td>\n",
       "      <td>0.000000</td>\n",
       "      <td>0.0</td>\n",
       "      <td>0.0</td>\n",
       "      <td>0.0</td>\n",
       "      <td>0.0</td>\n",
       "      <td>0.0</td>\n",
       "      <td>0.0</td>\n",
       "      <td>0.0</td>\n",
       "      <td>0.0</td>\n",
       "      <td>0.0</td>\n",
       "    </tr>\n",
       "    <tr>\n",
       "      <th>25%</th>\n",
       "      <td>23.0</td>\n",
       "      <td>30.5</td>\n",
       "      <td>1.0</td>\n",
       "      <td>329.0</td>\n",
       "      <td>45.5</td>\n",
       "      <td>93.5</td>\n",
       "      <td>0.416500</td>\n",
       "      <td>5.0</td>\n",
       "      <td>17.0</td>\n",
       "      <td>0.281000</td>\n",
       "      <td>...</td>\n",
       "      <td>0.667000</td>\n",
       "      <td>10.0</td>\n",
       "      <td>36.5</td>\n",
       "      <td>50.5</td>\n",
       "      <td>22.0</td>\n",
       "      <td>8.5</td>\n",
       "      <td>5.0</td>\n",
       "      <td>14.5</td>\n",
       "      <td>32.0</td>\n",
       "      <td>120.5</td>\n",
       "    </tr>\n",
       "    <tr>\n",
       "      <th>50%</th>\n",
       "      <td>25.0</td>\n",
       "      <td>54.0</td>\n",
       "      <td>8.0</td>\n",
       "      <td>970.0</td>\n",
       "      <td>138.0</td>\n",
       "      <td>300.0</td>\n",
       "      <td>0.455000</td>\n",
       "      <td>36.0</td>\n",
       "      <td>109.0</td>\n",
       "      <td>0.342000</td>\n",
       "      <td>...</td>\n",
       "      <td>0.763000</td>\n",
       "      <td>33.0</td>\n",
       "      <td>118.0</td>\n",
       "      <td>159.0</td>\n",
       "      <td>69.0</td>\n",
       "      <td>28.0</td>\n",
       "      <td>13.0</td>\n",
       "      <td>44.0</td>\n",
       "      <td>86.0</td>\n",
       "      <td>374.0</td>\n",
       "    </tr>\n",
       "    <tr>\n",
       "      <th>75%</th>\n",
       "      <td>28.5</td>\n",
       "      <td>68.0</td>\n",
       "      <td>46.5</td>\n",
       "      <td>1846.0</td>\n",
       "      <td>283.5</td>\n",
       "      <td>598.5</td>\n",
       "      <td>0.506000</td>\n",
       "      <td>92.0</td>\n",
       "      <td>249.5</td>\n",
       "      <td>0.385000</td>\n",
       "      <td>...</td>\n",
       "      <td>0.840000</td>\n",
       "      <td>63.0</td>\n",
       "      <td>229.5</td>\n",
       "      <td>286.0</td>\n",
       "      <td>162.5</td>\n",
       "      <td>51.0</td>\n",
       "      <td>28.0</td>\n",
       "      <td>92.5</td>\n",
       "      <td>140.0</td>\n",
       "      <td>769.5</td>\n",
       "    </tr>\n",
       "    <tr>\n",
       "      <th>max</th>\n",
       "      <td>42.0</td>\n",
       "      <td>83.0</td>\n",
       "      <td>83.0</td>\n",
       "      <td>2963.0</td>\n",
       "      <td>728.0</td>\n",
       "      <td>1559.0</td>\n",
       "      <td>1.000000</td>\n",
       "      <td>301.0</td>\n",
       "      <td>731.0</td>\n",
       "      <td>1.000000</td>\n",
       "      <td>...</td>\n",
       "      <td>1.000000</td>\n",
       "      <td>274.0</td>\n",
       "      <td>744.0</td>\n",
       "      <td>973.0</td>\n",
       "      <td>741.0</td>\n",
       "      <td>128.0</td>\n",
       "      <td>193.0</td>\n",
       "      <td>300.0</td>\n",
       "      <td>279.0</td>\n",
       "      <td>2225.0</td>\n",
       "    </tr>\n",
       "  </tbody>\n",
       "</table>\n",
       "<p>8 rows × 26 columns</p>\n",
       "</div>"
      ],
      "text/plain": [
       "             Age          G         GS           MP          FG         FGA  \\\n",
       "count      539.0      539.0      539.0        539.0       539.0       539.0   \n",
       "mean   25.727273  48.040816  22.820037  1103.593692  191.576994  403.003711   \n",
       "std     4.290326  24.650686  27.295285   827.778918  178.351286  369.600543   \n",
       "min         19.0        1.0        0.0          1.0         0.0         0.0   \n",
       "25%         23.0       30.5        1.0        329.0        45.5        93.5   \n",
       "50%         25.0       54.0        8.0        970.0       138.0       300.0   \n",
       "75%         28.5       68.0       46.5       1846.0       283.5       598.5   \n",
       "max         42.0       83.0       83.0       2963.0       728.0      1559.0   \n",
       "\n",
       "              FG%         3P         3PA         3P%  ...         FT%  \\\n",
       "count  539.000000      539.0       539.0  539.000000  ...  539.000000   \n",
       "mean     0.463258  56.324675  156.150278    0.315306  ...    0.719918   \n",
       "std      0.109669  60.916821  160.957017    0.137108  ...    0.212791   \n",
       "min      0.000000        0.0         0.0    0.000000  ...    0.000000   \n",
       "25%      0.416500        5.0        17.0    0.281000  ...    0.667000   \n",
       "50%      0.455000       36.0       109.0    0.342000  ...    0.763000   \n",
       "75%      0.506000       92.0       249.5    0.385000  ...    0.840000   \n",
       "max      1.000000      301.0       731.0    1.000000  ...    1.000000   \n",
       "\n",
       "             ORB         DRB         TRB         AST        STL        BLK  \\\n",
       "count      539.0       539.0       539.0       539.0      539.0      539.0   \n",
       "mean   47.623377  150.628942  198.252319  115.545455  33.270872  21.239332   \n",
       "std    52.119796  137.337655   181.82185  129.579185  28.337729  26.526487   \n",
       "min          0.0         0.0         0.0         0.0        0.0        0.0   \n",
       "25%         10.0        36.5        50.5        22.0        8.5        5.0   \n",
       "50%         33.0       118.0       159.0        69.0       28.0       13.0   \n",
       "75%         63.0       229.5       286.0       162.5       51.0       28.0   \n",
       "max        274.0       744.0       973.0       741.0      128.0      193.0   \n",
       "\n",
       "             TOV         PF         PTS  \n",
       "count      539.0      539.0       539.0  \n",
       "mean   61.298701  91.185529  523.426716  \n",
       "std    58.279083  66.209893  498.085345  \n",
       "min          0.0        0.0         0.0  \n",
       "25%         14.5       32.0       120.5  \n",
       "50%         44.0       86.0       374.0  \n",
       "75%         92.5      140.0       769.5  \n",
       "max        300.0      279.0      2225.0  \n",
       "\n",
       "[8 rows x 26 columns]"
      ]
     },
     "execution_count": 10,
     "metadata": {},
     "output_type": "execute_result"
    }
   ],
   "source": [
    "# Show summary statistics about the data\n",
    "playerData2023.describe()\n",
    "  "
   ]
  },
  {
   "cell_type": "markdown",
   "metadata": {},
   "source": [
    "## Data Visualization\n",
    "\n",
    "In order to determine initial trends in our dataset, we can visualizse our information and calculate other advances metrics for our player stats to see if we can see any tendencies that might indicate which players are better than others."
   ]
  },
  {
   "cell_type": "markdown",
   "metadata": {},
   "source": [
    "To start, we will calculate win share for each player in our data. Win share represents how many \"wins\" a player is responsible throughout a season, i.e. games that a team won because that player was on the team. This advanced metric can help reduce some of our variables down to one variable so that we can compare players easier. The following code blocks will be used to calculate win share for each player."
   ]
  },
  {
   "cell_type": "code",
   "execution_count": 11,
   "metadata": {},
   "outputs": [],
   "source": [
    "# For calculating the WS for each player\n",
    "def calculate_ws(dataframe):\n",
    "    dataframe['WS'] = (dataframe['PTS'] + dataframe['TRB'] + dataframe['AST'] + dataframe['STL'] + dataframe['BLK'] - dataframe['TOV']) * dataframe['FG%']\n",
    "    return dataframe"
   ]
  },
  {
   "cell_type": "code",
   "execution_count": 12,
   "metadata": {},
   "outputs": [],
   "source": [
    "# Calculating the winshares for each player\n",
    "playerData2023 = calculate_ws(playerData2023)\n",
    "playerData2022 = calculate_ws(playerData2022)\n",
    "playerData2021 = calculate_ws(playerData2021)\n",
    "playerData2019 = calculate_ws(playerData2019)\n",
    "playerData2018 = calculate_ws(playerData2018)"
   ]
  },
  {
   "cell_type": "markdown",
   "metadata": {},
   "source": [
    "In addition to using win-share, we can create average stats of some of the important counting stats that we have in our data. (For reference, a counting stat is a stat that is a total, such as total points over the year, while an average stat is one that takes into account the amount of games played, i.e points per game)."
   ]
  },
  {
   "cell_type": "code",
   "execution_count": 13,
   "metadata": {},
   "outputs": [],
   "source": [
    "# Creates new series to represent average stats for points, assists, and rebounds\n",
    "def addAverageStats(dataframe):\n",
    "\n",
    "    # Calculate per game stats and efficiency\n",
    "    dataframe['PPG'] = dataframe['PTS'] / dataframe['G']\n",
    "    dataframe['APG'] = dataframe['AST'] / dataframe['G']\n",
    "    dataframe['RPG'] = dataframe['TRB'] / dataframe['G']\n",
    "\n",
    "    return dataframe"
   ]
  },
  {
   "cell_type": "code",
   "execution_count": 14,
   "metadata": {},
   "outputs": [],
   "source": [
    "# Apply mutation to all datasets\n",
    "playerData2023 = addAverageStats(playerData2023)\n",
    "playerData2022 = addAverageStats(playerData2022)\n",
    "playerData2021 = addAverageStats(playerData2021)\n",
    "playerData2019 = addAverageStats(playerData2019)\n",
    "playerData2018 = addAverageStats(playerData2018)"
   ]
  },
  {
   "cell_type": "markdown",
   "metadata": {},
   "source": [
    "We can then create a function to view the top performers in these categories to see if we can discern any trends among each statistic."
   ]
  },
  {
   "cell_type": "code",
   "execution_count": 15,
   "metadata": {},
   "outputs": [],
   "source": [
    "# Creates a bar chart visualization for the best players each main statistic\n",
    "def visualizeStatsBestPlayers(dataframe):\n",
    "\n",
    "    # Filter players with significant contributions and games played\n",
    "    top_candidates = dataframe[dataframe['G'] > dataframe['G'].quantile(0.5)].nlargest(20, ['PPG', 'APG', 'eFG%'], keep='all')\n",
    "\n",
    "    # Visualizations for key metrics\n",
    "    metrics = ['PPG', 'APG', 'RPG', 'eFG%', 'G']\n",
    "    \n",
    "    for metric in metrics:\n",
    "        plt.figure(figsize=(12, 6))\n",
    "        sns.barplot(x='Player', y=metric, data=top_candidates.sort_values(metric, ascending=False))\n",
    "        plt.xticks(rotation=45)\n",
    "        plt.title(f'Top Players - {metric}')\n",
    "        plt.xlabel('Player')\n",
    "        plt.ylabel(metric)\n",
    "        plt.show()\n",
    "\n",
    "\n"
   ]
  },
  {
   "cell_type": "markdown",
   "metadata": {},
   "source": [
    "### Visualization of the best players in each statistic for the given year 2023\n",
    "\n",
    "We will now use the functions created above to create visualizations for our 2023 dataset. Please note the definitions below:\n",
    "\n",
    "- **PPG:** Points per game\n",
    "- **APG:** Assists per game\n",
    "- **RPG:** Rebounds per game\n",
    "- **eFG%:** Effective field goal percentage (a statistic that adjusts for the fact that three-point field goals are worth more than two-point field goals)\n",
    "- **G:** Games played"
   ]
  },
  {
   "cell_type": "code",
   "execution_count": 16,
   "metadata": {
    "scrolled": true
   },
   "outputs": [
    {
     "data": {
      "image/png": "[encoded data removed]",
      "text/plain": [
       "<Figure size 1200x600 with 1 Axes>"
      ]
     },
     "metadata": {},
     "output_type": "display_data"
    },
    {
     "data": {
      "image/png": "[encoded data removed]",
      "text/plain": [
       "<Figure size 1200x600 with 1 Axes>"
      ]
     },
     "metadata": {},
     "output_type": "display_data"
    },
    {
     "data": {
      "image/png": "[encoded data removed]",
      "text/plain": [
       "<Figure size 1200x600 with 1 Axes>"
      ]
     },
     "metadata": {},
     "output_type": "display_data"
    },
    {
     "data": {
      "image/png": "[encoded data removed]",
      "text/plain": [
       "<Figure size 1200x600 with 1 Axes>"
      ]
     },
     "metadata": {},
     "output_type": "display_data"
    },
    {
     "data": {
      "image/png": "[encoded data removed]",
      "text/plain": [
       "<Figure size 1200x600 with 1 Axes>"
      ]
     },
     "metadata": {},
     "output_type": "display_data"
    }
   ],
   "source": [
    "visualizeStatsBestPlayers(playerData2023)\n"
   ]
  },
  {
   "cell_type": "markdown",
   "metadata": {},
   "source": [
    "Through these visualizations, we are able to view the stats for players who rank at the top in terms of some of the most important factors that go into MVP discussions. We can see that the top players are all well above 20 points per game and the top 5 players are even above 30 points per game. This is just one example of a statistic that carries significant weight in voting of the regular season MVP. In terms of assists, we can again see that the average top player hovers around 5 assists, with the top 5 averaging more than 7. Rebounds are another statistic that tends to be important, especially with players of  certain positions. Guards in the NBA tend to get less rebounds due to their size, with centers and forwards getting more. The top players in the league tend to get around 10 rebounds if they are a taller player but that number dwindles depending on positions. If we look at a players effective field goal percentage, they are all actually very similar at aroudn 55 percent. The league average effective field goal percentage is also around 55 percent, so this statistic actually has less impact on the MVP voting results. Looking at one of the most important statistics, games played, we can see that this number tends to vary with top players playing almost every game (82 games in a season) and those on the lower end of our top player pool at round 55 games. This is an extremely important statistic to keep track of especially due to new rule changes for the 2024 season and beyond, stating that only players who have played 65 games or more are eligible for regular season awards."
   ]
  },
  {
   "cell_type": "markdown",
   "metadata": {},
   "source": [
    "We can further our analysis by calculating a \"composite score\" for each player, that in theory should give each player an overall grade. This grade should help reduce our rankings down to one number, with the player with a higher score being considered a better player."
   ]
  },
  {
   "cell_type": "code",
   "execution_count": 17,
   "metadata": {},
   "outputs": [],
   "source": [
    "# Add a composite score for each player in the dataframe\n",
    "def calculateCompositeScore(dataframe):\n",
    "\n",
    "    # Normalizing the stats to make them comparable\n",
    "    for col in ['PPG', 'APG', 'RPG', 'eFG%', 'WS']:\n",
    "        dataframe[col] = (dataframe[col] - dataframe[col].min()) / (dataframe[col].max() - dataframe[col].min())\n",
    "    \n",
    "    # Calculate the composite score using regulated scales for each statistic\n",
    "    dataframe['Composite Score'] = (dataframe['PPG'] * 0.2 + dataframe['APG'] * 0.15 + dataframe['RPG'] * 0.15 +\n",
    "                                    dataframe['eFG%'] * 0.2 + dataframe['WS'] * 0.3)\n",
    "\n",
    "    return dataframe"
   ]
  },
  {
   "cell_type": "code",
   "execution_count": 18,
   "metadata": {},
   "outputs": [],
   "source": [
    "# Apply mutation to all datasets\n",
    "playerData2023 = calculateCompositeScore(playerData2023)\n",
    "playerData2022 = calculateCompositeScore(playerData2022)\n",
    "playerData2021 = calculateCompositeScore(playerData2021)\n",
    "playerData2019 = calculateCompositeScore(playerData2019)\n",
    "playerData2018 = calculateCompositeScore(playerData2018)"
   ]
  },
  {
   "cell_type": "markdown",
   "metadata": {},
   "source": [
    "Finally, we can create a function to view the players with the top composite scores and see if we can discern any trends among the distribution"
   ]
  },
  {
   "cell_type": "code",
   "execution_count": 19,
   "metadata": {},
   "outputs": [],
   "source": [
    "# For visualizing the MVP candidates for the year\n",
    "def visualizePlayerRanking(dataframe):\n",
    "    \n",
    "    # Filter top candidates based on composite score\n",
    "    top_candidates = dataframe.nlargest(10, 'Composite Score')\n",
    "\n",
    "    # Visualize the top candidates\n",
    "    plt.figure(figsize=(14, 7))\n",
    "    sns.barplot(x='Player', y='Composite Score', data=top_candidates)\n",
    "    plt.xticks(rotation=45)\n",
    "    plt.title('Top Candidates')\n",
    "    plt.xlabel('Player')\n",
    "    plt.ylabel('Composite Score')\n",
    "    plt.show()"
   ]
  },
  {
   "cell_type": "code",
   "execution_count": 20,
   "metadata": {},
   "outputs": [
    {
     "data": {
      "image/png": "[encoded data removed]",
      "text/plain": [
       "<Figure size 1400x700 with 1 Axes>"
      ]
     },
     "metadata": {},
     "output_type": "display_data"
    }
   ],
   "source": [
    "visualizePlayerRanking(playerData2023)"
   ]
  },
  {
   "cell_type": "markdown",
   "metadata": {},
   "source": [
    "As we can see, player ID 16201 is rated highest as an MVP candidate. Despite being one of the lowest amongst the PPG statistics, the player makes up for it by exceeding in assists and rebounds per game, which is essential to becoming a valuable player in a team. These factors are essential as a valuable team player because it allows your team to have possession of the ball and gives opportunities for your teammates to score. Not to mention, player ID 16201 has the highest eFG%, which means they are extremely efficient at making shots and rarely loses the ball during possession."
   ]
  },
  {
   "cell_type": "markdown",
   "metadata": {},
   "source": [
    "When we look at the visualization of the candidates with the top composite score, therefor top MVP candidates, we can see the aggregate scores hover around 0.7 with the highest closer to 0.9. The composite score is made up of different weights being attributed to different statistics. We gave ponits per game 20 percent, assists per game 15 percent, rebounds per game 15 percent, effective field goal percentage 20 percent, and games played 30 percent. When we look at the aggregate score, we can actually see the player with the highest composite score, Nikola Jokic, actually did not win the MVP but rather the player with the fourth highest composite score, Joel Embiid. This is one of the main reasons we're investigating the relation between statistics and the winner of the MVP, to see if statistics and performace alone can predict the winner of the MVP. Something worth mentioning is that in 2023, there was a lot of controversy as to whether or not Joel Embiid actually deserved the MVP award over Nikola Jokic. Nikola Jokic has long been labeled as the best player in the NBA, so when the result of the award was released, it surprised many.\n",
    "\n",
    "Though in 2023, the composite score may not have predicted who the league MVP would be, we can see that there is still an extremely strong correlation between composite score, player success, and achieving MVP status. In later phases of the project, we'll explore different machine learning models to see which type will best predict MVP winners using our insights from before including knowledge of which statistics might carry the most weight as well as general statistic trends."
   ]
  },
  {
   "cell_type": "markdown",
   "metadata": {},
   "source": [
    "# Creating Models to Predict the MVP"
   ]
  },
  {
   "cell_type": "markdown",
   "metadata": {},
   "source": [
    "### Generating a Suitable Test Dataset"
   ]
  },
  {
   "cell_type": "markdown",
   "metadata": {},
   "source": [
    "Our next step is to create three models to predict if a player should be an MVP in a given dataset. In order to do this, we need to generate a test data set that contains examples of players that were deemed to be MVPs, and players that were not MVPs. However, our current dataset does not differentiate whether or not a player won MVP that year. Therefore, we are going to go back and import a new dataset that shows all historical MVP candidates in NBA history. Excluding the years for MVP which we already derived data for (i.e. 2022 because our current dataset has all 2022 players in it), we will extract the last 20 MVP winners and use their statline as examples of an MVP. We will then grab random samples of players from our original dataset and fill out the rest of the training data with players that did not win the MVP (again remembering to exclude the MVP winners from our original dataset) to create a final dataset that contains both MVP winners and non-MVP winners"
   ]
  },
  {
   "cell_type": "code",
   "execution_count": 21,
   "metadata": {},
   "outputs": [],
   "source": [
    "# Web scrape MVP data\n",
    "mvp_winners_url = \"https://www.basketball-reference.com/awards/mvp.html\"\n",
    "\n",
    "# Store as a dataframe\n",
    "mvp_winners = pd.DataFrame(pd.read_html(mvp_winners_url, header = 0)[0])"
   ]
  },
  {
   "cell_type": "markdown",
   "metadata": {},
   "source": [
    "By performing simple EDA, we can see that the only main problem is that the header is incorrect and the first row should actually be the header of the dataframe. Therefore,\n",
    "we will set the header to the first row and remove the first row from the dataframe. Additionally, we can drop the Voting, League, Season, and WS/48 series, since these are not reflected in our original data"
   ]
  },
  {
   "cell_type": "code",
   "execution_count": 22,
   "metadata": {},
   "outputs": [],
   "source": [
    "# Grab first row\n",
    "new_header = mvp_winners.iloc[0]\n",
    "\n",
    "# Set new header\n",
    "mvp_winners.columns = new_header\n",
    "\n",
    "# Update dataframe\n",
    "mvp_winners = mvp_winners[1:]\n",
    "\n",
    "# Drop Voting, WS, and WS/48 columns\n",
    "mvp_winners = mvp_winners.drop(['Voting', 'Lg', 'Season', 'WS/48'], axis=1)"
   ]
  },
  {
   "cell_type": "markdown",
   "metadata": {},
   "source": [
    "Next, we need to take 20 MVPs and add them to our training data set, without including years for which we already have data for. Therefore, we should grab the MVPs from years 2017 to 1997, which is from index 5 to index 26"
   ]
  },
  {
   "cell_type": "code",
   "execution_count": 23,
   "metadata": {},
   "outputs": [
    {
     "name": "stderr",
     "output_type": "stream",
     "text": [
      "/var/folders/v0/0fcwssbx5v70b3c7pf8vt1400000gn/T/ipykernel_12331/2351657106.py:5: SettingWithCopyWarning: \n",
      "A value is trying to be set on a copy of a slice from a DataFrame.\n",
      "Try using .loc[row_indexer,col_indexer] = value instead\n",
      "\n",
      "See the caveats in the documentation: https://pandas.pydata.org/pandas-docs/stable/user_guide/indexing.html#returning-a-view-versus-a-copy\n",
      "  training_set['MVP'] = 1\n"
     ]
    }
   ],
   "source": [
    "# Create a new variable and store it to contain the training data\n",
    "training_set = mvp_winners[6:27]\n",
    "\n",
    "# Add a column to the dataframe to represents the fact that they won MVP and set it to 1\n",
    "training_set['MVP'] = 1"
   ]
  },
  {
   "cell_type": "markdown",
   "metadata": {},
   "source": [
    "Finally, we need to randomly grab samples from our existing dataframes to add to our existing training set. Importantly, we are going to have to match our existing dataframes to have\n",
    "the same columns as the new training set, which involves removing some columns from our original data, and combining columns into average columns as well."
   ]
  },
  {
   "cell_type": "code",
   "execution_count": 24,
   "metadata": {},
   "outputs": [],
   "source": [
    "# Function to convert the fields of the dataframe to match the training set\n",
    "def convertForTraining(dataframe):\n",
    "    dataframe['MP'] = dataframe['MP'] / dataframe['G']\n",
    "    dataframe['PTS'] = dataframe['PTS'] / dataframe['G']\n",
    "    dataframe['TRB'] = dataframe['TRB'] / dataframe['G']\n",
    "    dataframe['AST'] = dataframe['AST'] / dataframe['G']\n",
    "    dataframe['STL'] = dataframe['STL'] / dataframe['G']\n",
    "    dataframe['BLK'] = dataframe['BLK'] / dataframe['G']\n",
    "    dataframe['MVP'] = 0\n",
    "\n",
    "    dataframe = dataframe.drop(['Pos', 'FG', 'FGA', '3P', 'GS', '3PA', '2P', '2PA', '2P%', 'eFG%', 'FT', 'FTA', 'ORB', 'DRB', 'TOV', 'PF', 'PPG', 'APG', 'RPG', 'Composite Score'], axis=1)\n",
    "\n",
    "    return dataframe"
   ]
  },
  {
   "cell_type": "code",
   "execution_count": 25,
   "metadata": {},
   "outputs": [],
   "source": [
    "# Call function on all dataframes\n",
    "playerData2023 = convertForTraining(playerData2023)\n",
    "playerData2022 = convertForTraining(playerData2022)\n",
    "playerData2021 = convertForTraining(playerData2021)\n",
    "playerData2019 = convertForTraining(playerData2019)\n",
    "playerData2018 = convertForTraining(playerData2018)"
   ]
  },
  {
   "cell_type": "markdown",
   "metadata": {},
   "source": [
    "Importantly, we also have to mark the MVPs from our original datasets as MVPs, because right now they are considered to not be MVPs. Therefore, we must change their MVP column to 1."
   ]
  },
  {
   "cell_type": "code",
   "execution_count": 26,
   "metadata": {},
   "outputs": [],
   "source": [
    "# Remove the MVPs from the datasets\n",
    "mvp_2023 = \"Joel Embiid\"\n",
    "mvp_2023_id = ids_2023.get(mvp_2023)\n",
    "playerData2023.loc[playerData2023['Player'] == mvp_2023_id] = 1\n",
    "\n",
    "mvp_2022 = \"Nikola Jokic\"\n",
    "mvp_2022_id = ids_2022.get(mvp_2022)\n",
    "playerData2022.loc[playerData2022['Player'] == mvp_2022_id] = 1\n",
    "\n",
    "mvp_2021 = \"Nikola Jokic\"\n",
    "mvp_2021_id = ids_2021.get(mvp_2021)\n",
    "playerData2021.loc[playerData2021['Player'] == mvp_2021_id] = 1\n",
    "\n",
    "mvp_2019 = \"Giannis Antetokounmpo\"\n",
    "mvp_2019_id = ids_2019.get(mvp_2019)\n",
    "playerData2019.loc[playerData2019['Player'] == mvp_2019_id] = 1\n",
    "\n",
    "mvp_2018 = \"James Harden\"\n",
    "mvp_2018_id = ids_2018.get(mvp_2018)\n",
    "playerData2018.loc[playerData2018['Player'] == mvp_2018_id] = 1\n",
    "\n"
   ]
  },
  {
   "cell_type": "markdown",
   "metadata": {},
   "source": [
    "Finally, we need to add random samples of other players from our original data to create a full test set of examples of MVPs and examples of not MVPs."
   ]
  },
  {
   "cell_type": "code",
   "execution_count": 27,
   "metadata": {},
   "outputs": [],
   "source": [
    "# Add random samples per dataset into the training data\n",
    "def addRandomSample(dataframe, training_set, num_samples):\n",
    "\n",
    "    rand_samples = []\n",
    "    for i in range(num_samples):\n",
    "        index = random.randint(0, dataframe.shape[0]) - 1\n",
    "        rand_samples.append(dataframe.iloc[index:index+1])\n",
    "\n",
    "    rand_samples.append(training_set)\n",
    "    \n",
    "    return pd.concat(rand_samples)\n",
    "\n",
    "    "
   ]
  },
  {
   "cell_type": "code",
   "execution_count": 28,
   "metadata": {},
   "outputs": [],
   "source": [
    "# Add random samples from each year to the training data\n",
    "training_set = addRandomSample(playerData2023, training_set, 150)\n",
    "training_set = addRandomSample(playerData2022, training_set, 150)\n",
    "training_set = addRandomSample(playerData2021, training_set, 150)\n",
    "training_set = addRandomSample(playerData2019, training_set, 150)\n",
    "training_set = addRandomSample(playerData2018, training_set, 150)"
   ]
  },
  {
   "cell_type": "markdown",
   "metadata": {},
   "source": [
    "## Creating A KNN Model\n",
    "\n",
    "Now that our training set has been made, we can begin to create models to see if we can predict if a player is worthy of being an MVP or not. We will begin by creating a KNN model. The following code blocks will be used to create, fit, and analyze the performance of this model."
   ]
  },
  {
   "cell_type": "markdown",
   "metadata": {},
   "source": [
    "We begin by partitioning our data into training and test sets."
   ]
  },
  {
   "cell_type": "code",
   "execution_count": 29,
   "metadata": {},
   "outputs": [],
   "source": [
    "# split the data\n",
    "X = training_set[['Age', 'G', 'MP', 'FG%', '3P%', 'FT%', 'TRB', 'AST', 'STL', 'BLK', 'PTS']]\n",
    "y = training_set['MVP']\n",
    "\n",
    "# Partition the data into training and test sets (70% train, 30% test)\n",
    "X_train, X_test, y_train, y_test = train_test_split(X, y, test_size=0.2, random_state=7)"
   ]
  },
  {
   "cell_type": "markdown",
   "metadata": {},
   "source": [
    "Now we need to determine which features we should actually use in the model. Using the ExtraTreesClassifier, we can do this now."
   ]
  },
  {
   "cell_type": "code",
   "execution_count": 30,
   "metadata": {},
   "outputs": [
    {
     "name": "stdout",
     "output_type": "stream",
     "text": [
      "['MP' 'AST' 'STL' 'PTS']\n"
     ]
    }
   ],
   "source": [
    "# Use ExtraTreesClassifier to determines which features are most valuable (Feature Selection)\n",
    "feature_selector = ExtraTreesClassifier(n_estimators=50)\n",
    "feature_selector = feature_selector.fit(X_train, y_train)\n",
    "\n",
    "# Use SelectFromModel to grab most important features\n",
    "feature_selector_model = SelectFromModel(feature_selector, prefit=True)\n",
    "feature_selector_model.fit_transform(X)\n",
    "best_features = feature_selector_model.get_feature_names_out()\n",
    "\n",
    "print(best_features)\n",
    "\n",
    "\n",
    "# Change X train and test features to only include the best features found\n",
    "X_train = X_train[best_features]\n",
    "X_test = X_test[best_features]"
   ]
  },
  {
   "cell_type": "markdown",
   "metadata": {},
   "source": [
    "With good features, we now create the KNN model."
   ]
  },
  {
   "cell_type": "code",
   "execution_count": 31,
   "metadata": {},
   "outputs": [
    {
     "data": {
      "text/html": [
       "<style>#sk-container-id-1 {\n",
       "  /* Definition of color scheme common for light and dark mode */\n",
       "  --sklearn-color-text: black;\n",
       "  --sklearn-color-line: gray;\n",
       "  /* Definition of color scheme for unfitted estimators */\n",
       "  --sklearn-color-unfitted-level-0: #fff5e6;\n",
       "  --sklearn-color-unfitted-level-1: #f6e4d2;\n",
       "  --sklearn-color-unfitted-level-2: #ffe0b3;\n",
       "  --sklearn-color-unfitted-level-3: chocolate;\n",
       "  /* Definition of color scheme for fitted estimators */\n",
       "  --sklearn-color-fitted-level-0: #f0f8ff;\n",
       "  --sklearn-color-fitted-level-1: #d4ebff;\n",
       "  --sklearn-color-fitted-level-2: #b3dbfd;\n",
       "  --sklearn-color-fitted-level-3: cornflowerblue;\n",
       "\n",
       "  /* Specific color for light theme */\n",
       "  --sklearn-color-text-on-default-background: var(--sg-text-color, var(--theme-code-foreground, var(--jp-content-font-color1, black)));\n",
       "  --sklearn-color-background: var(--sg-background-color, var(--theme-background, var(--jp-layout-color0, white)));\n",
       "  --sklearn-color-border-box: var(--sg-text-color, var(--theme-code-foreground, var(--jp-content-font-color1, black)));\n",
       "  --sklearn-color-icon: #696969;\n",
       "\n",
       "  @media (prefers-color-scheme: dark) {\n",
       "    /* Redefinition of color scheme for dark theme */\n",
       "    --sklearn-color-text-on-default-background: var(--sg-text-color, var(--theme-code-foreground, var(--jp-content-font-color1, white)));\n",
       "    --sklearn-color-background: var(--sg-background-color, var(--theme-background, var(--jp-layout-color0, #111)));\n",
       "    --sklearn-color-border-box: var(--sg-text-color, var(--theme-code-foreground, var(--jp-content-font-color1, white)));\n",
       "    --sklearn-color-icon: #878787;\n",
       "  }\n",
       "}\n",
       "\n",
       "#sk-container-id-1 {\n",
       "  color: var(--sklearn-color-text);\n",
       "}\n",
       "\n",
       "#sk-container-id-1 pre {\n",
       "  padding: 0;\n",
       "}\n",
       "\n",
       "#sk-container-id-1 input.sk-hidden--visually {\n",
       "  border: 0;\n",
       "  clip: rect(1px 1px 1px 1px);\n",
       "  clip: rect(1px, 1px, 1px, 1px);\n",
       "  height: 1px;\n",
       "  margin: -1px;\n",
       "  overflow: hidden;\n",
       "  padding: 0;\n",
       "  position: absolute;\n",
       "  width: 1px;\n",
       "}\n",
       "\n",
       "#sk-container-id-1 div.sk-dashed-wrapped {\n",
       "  border: 1px dashed var(--sklearn-color-line);\n",
       "  margin: 0 0.4em 0.5em 0.4em;\n",
       "  box-sizing: border-box;\n",
       "  padding-bottom: 0.4em;\n",
       "  background-color: var(--sklearn-color-background);\n",
       "}\n",
       "\n",
       "#sk-container-id-1 div.sk-container {\n",
       "  /* jupyter's `normalize.less` sets `[hidden] { display: none; }`\n",
       "     but bootstrap.min.css set `[hidden] { display: none !important; }`\n",
       "     so we also need the `!important` here to be able to override the\n",
       "     default hidden behavior on the sphinx rendered scikit-learn.org.\n",
       "     See: https://github.com/scikit-learn/scikit-learn/issues/21755 */\n",
       "  display: inline-block !important;\n",
       "  position: relative;\n",
       "}\n",
       "\n",
       "#sk-container-id-1 div.sk-text-repr-fallback {\n",
       "  display: none;\n",
       "}\n",
       "\n",
       "div.sk-parallel-item,\n",
       "div.sk-serial,\n",
       "div.sk-item {\n",
       "  /* draw centered vertical line to link estimators */\n",
       "  background-image: linear-gradient(var(--sklearn-color-text-on-default-background), var(--sklearn-color-text-on-default-background));\n",
       "  background-size: 2px 100%;\n",
       "  background-repeat: no-repeat;\n",
       "  background-position: center center;\n",
       "}\n",
       "\n",
       "/* Parallel-specific style estimator block */\n",
       "\n",
       "#sk-container-id-1 div.sk-parallel-item::after {\n",
       "  content: \"\";\n",
       "  width: 100%;\n",
       "  border-bottom: 2px solid var(--sklearn-color-text-on-default-background);\n",
       "  flex-grow: 1;\n",
       "}\n",
       "\n",
       "#sk-container-id-1 div.sk-parallel {\n",
       "  display: flex;\n",
       "  align-items: stretch;\n",
       "  justify-content: center;\n",
       "  background-color: var(--sklearn-color-background);\n",
       "  position: relative;\n",
       "}\n",
       "\n",
       "#sk-container-id-1 div.sk-parallel-item {\n",
       "  display: flex;\n",
       "  flex-direction: column;\n",
       "}\n",
       "\n",
       "#sk-container-id-1 div.sk-parallel-item:first-child::after {\n",
       "  align-self: flex-end;\n",
       "  width: 50%;\n",
       "}\n",
       "\n",
       "#sk-container-id-1 div.sk-parallel-item:last-child::after {\n",
       "  align-self: flex-start;\n",
       "  width: 50%;\n",
       "}\n",
       "\n",
       "#sk-container-id-1 div.sk-parallel-item:only-child::after {\n",
       "  width: 0;\n",
       "}\n",
       "\n",
       "/* Serial-specific style estimator block */\n",
       "\n",
       "#sk-container-id-1 div.sk-serial {\n",
       "  display: flex;\n",
       "  flex-direction: column;\n",
       "  align-items: center;\n",
       "  background-color: var(--sklearn-color-background);\n",
       "  padding-right: 1em;\n",
       "  padding-left: 1em;\n",
       "}\n",
       "\n",
       "\n",
       "/* Toggleable style: style used for estimator/Pipeline/ColumnTransformer box that is\n",
       "clickable and can be expanded/collapsed.\n",
       "- Pipeline and ColumnTransformer use this feature and define the default style\n",
       "- Estimators will overwrite some part of the style using the `sk-estimator` class\n",
       "*/\n",
       "\n",
       "/* Pipeline and ColumnTransformer style (default) */\n",
       "\n",
       "#sk-container-id-1 div.sk-toggleable {\n",
       "  /* Default theme specific background. It is overwritten whether we have a\n",
       "  specific estimator or a Pipeline/ColumnTransformer */\n",
       "  background-color: var(--sklearn-color-background);\n",
       "}\n",
       "\n",
       "/* Toggleable label */\n",
       "#sk-container-id-1 label.sk-toggleable__label {\n",
       "  cursor: pointer;\n",
       "  display: block;\n",
       "  width: 100%;\n",
       "  margin-bottom: 0;\n",
       "  padding: 0.5em;\n",
       "  box-sizing: border-box;\n",
       "  text-align: center;\n",
       "}\n",
       "\n",
       "#sk-container-id-1 label.sk-toggleable__label-arrow:before {\n",
       "  /* Arrow on the left of the label */\n",
       "  content: \"▸\";\n",
       "  float: left;\n",
       "  margin-right: 0.25em;\n",
       "  color: var(--sklearn-color-icon);\n",
       "}\n",
       "\n",
       "#sk-container-id-1 label.sk-toggleable__label-arrow:hover:before {\n",
       "  color: var(--sklearn-color-text);\n",
       "}\n",
       "\n",
       "/* Toggleable content - dropdown */\n",
       "\n",
       "#sk-container-id-1 div.sk-toggleable__content {\n",
       "  max-height: 0;\n",
       "  max-width: 0;\n",
       "  overflow: hidden;\n",
       "  text-align: left;\n",
       "  /* unfitted */\n",
       "  background-color: var(--sklearn-color-unfitted-level-0);\n",
       "}\n",
       "\n",
       "#sk-container-id-1 div.sk-toggleable__content.fitted {\n",
       "  /* fitted */\n",
       "  background-color: var(--sklearn-color-fitted-level-0);\n",
       "}\n",
       "\n",
       "#sk-container-id-1 div.sk-toggleable__content pre {\n",
       "  margin: 0.2em;\n",
       "  border-radius: 0.25em;\n",
       "  color: var(--sklearn-color-text);\n",
       "  /* unfitted */\n",
       "  background-color: var(--sklearn-color-unfitted-level-0);\n",
       "}\n",
       "\n",
       "#sk-container-id-1 div.sk-toggleable__content.fitted pre {\n",
       "  /* unfitted */\n",
       "  background-color: var(--sklearn-color-fitted-level-0);\n",
       "}\n",
       "\n",
       "#sk-container-id-1 input.sk-toggleable__control:checked~div.sk-toggleable__content {\n",
       "  /* Expand drop-down */\n",
       "  max-height: 200px;\n",
       "  max-width: 100%;\n",
       "  overflow: auto;\n",
       "}\n",
       "\n",
       "#sk-container-id-1 input.sk-toggleable__control:checked~label.sk-toggleable__label-arrow:before {\n",
       "  content: \"▾\";\n",
       "}\n",
       "\n",
       "/* Pipeline/ColumnTransformer-specific style */\n",
       "\n",
       "#sk-container-id-1 div.sk-label input.sk-toggleable__control:checked~label.sk-toggleable__label {\n",
       "  color: var(--sklearn-color-text);\n",
       "  background-color: var(--sklearn-color-unfitted-level-2);\n",
       "}\n",
       "\n",
       "#sk-container-id-1 div.sk-label.fitted input.sk-toggleable__control:checked~label.sk-toggleable__label {\n",
       "  background-color: var(--sklearn-color-fitted-level-2);\n",
       "}\n",
       "\n",
       "/* Estimator-specific style */\n",
       "\n",
       "/* Colorize estimator box */\n",
       "#sk-container-id-1 div.sk-estimator input.sk-toggleable__control:checked~label.sk-toggleable__label {\n",
       "  /* unfitted */\n",
       "  background-color: var(--sklearn-color-unfitted-level-2);\n",
       "}\n",
       "\n",
       "#sk-container-id-1 div.sk-estimator.fitted input.sk-toggleable__control:checked~label.sk-toggleable__label {\n",
       "  /* fitted */\n",
       "  background-color: var(--sklearn-color-fitted-level-2);\n",
       "}\n",
       "\n",
       "#sk-container-id-1 div.sk-label label.sk-toggleable__label,\n",
       "#sk-container-id-1 div.sk-label label {\n",
       "  /* The background is the default theme color */\n",
       "  color: var(--sklearn-color-text-on-default-background);\n",
       "}\n",
       "\n",
       "/* On hover, darken the color of the background */\n",
       "#sk-container-id-1 div.sk-label:hover label.sk-toggleable__label {\n",
       "  color: var(--sklearn-color-text);\n",
       "  background-color: var(--sklearn-color-unfitted-level-2);\n",
       "}\n",
       "\n",
       "/* Label box, darken color on hover, fitted */\n",
       "#sk-container-id-1 div.sk-label.fitted:hover label.sk-toggleable__label.fitted {\n",
       "  color: var(--sklearn-color-text);\n",
       "  background-color: var(--sklearn-color-fitted-level-2);\n",
       "}\n",
       "\n",
       "/* Estimator label */\n",
       "\n",
       "#sk-container-id-1 div.sk-label label {\n",
       "  font-family: monospace;\n",
       "  font-weight: bold;\n",
       "  display: inline-block;\n",
       "  line-height: 1.2em;\n",
       "}\n",
       "\n",
       "#sk-container-id-1 div.sk-label-container {\n",
       "  text-align: center;\n",
       "}\n",
       "\n",
       "/* Estimator-specific */\n",
       "#sk-container-id-1 div.sk-estimator {\n",
       "  font-family: monospace;\n",
       "  border: 1px dotted var(--sklearn-color-border-box);\n",
       "  border-radius: 0.25em;\n",
       "  box-sizing: border-box;\n",
       "  margin-bottom: 0.5em;\n",
       "  /* unfitted */\n",
       "  background-color: var(--sklearn-color-unfitted-level-0);\n",
       "}\n",
       "\n",
       "#sk-container-id-1 div.sk-estimator.fitted {\n",
       "  /* fitted */\n",
       "  background-color: var(--sklearn-color-fitted-level-0);\n",
       "}\n",
       "\n",
       "/* on hover */\n",
       "#sk-container-id-1 div.sk-estimator:hover {\n",
       "  /* unfitted */\n",
       "  background-color: var(--sklearn-color-unfitted-level-2);\n",
       "}\n",
       "\n",
       "#sk-container-id-1 div.sk-estimator.fitted:hover {\n",
       "  /* fitted */\n",
       "  background-color: var(--sklearn-color-fitted-level-2);\n",
       "}\n",
       "\n",
       "/* Specification for estimator info (e.g. \"i\" and \"?\") */\n",
       "\n",
       "/* Common style for \"i\" and \"?\" */\n",
       "\n",
       ".sk-estimator-doc-link,\n",
       "a:link.sk-estimator-doc-link,\n",
       "a:visited.sk-estimator-doc-link {\n",
       "  float: right;\n",
       "  font-size: smaller;\n",
       "  line-height: 1em;\n",
       "  font-family: monospace;\n",
       "  background-color: var(--sklearn-color-background);\n",
       "  border-radius: 1em;\n",
       "  height: 1em;\n",
       "  width: 1em;\n",
       "  text-decoration: none !important;\n",
       "  margin-left: 1ex;\n",
       "  /* unfitted */\n",
       "  border: var(--sklearn-color-unfitted-level-1) 1pt solid;\n",
       "  color: var(--sklearn-color-unfitted-level-1);\n",
       "}\n",
       "\n",
       ".sk-estimator-doc-link.fitted,\n",
       "a:link.sk-estimator-doc-link.fitted,\n",
       "a:visited.sk-estimator-doc-link.fitted {\n",
       "  /* fitted */\n",
       "  border: var(--sklearn-color-fitted-level-1) 1pt solid;\n",
       "  color: var(--sklearn-color-fitted-level-1);\n",
       "}\n",
       "\n",
       "/* On hover */\n",
       "div.sk-estimator:hover .sk-estimator-doc-link:hover,\n",
       ".sk-estimator-doc-link:hover,\n",
       "div.sk-label-container:hover .sk-estimator-doc-link:hover,\n",
       ".sk-estimator-doc-link:hover {\n",
       "  /* unfitted */\n",
       "  background-color: var(--sklearn-color-unfitted-level-3);\n",
       "  color: var(--sklearn-color-background);\n",
       "  text-decoration: none;\n",
       "}\n",
       "\n",
       "div.sk-estimator.fitted:hover .sk-estimator-doc-link.fitted:hover,\n",
       ".sk-estimator-doc-link.fitted:hover,\n",
       "div.sk-label-container:hover .sk-estimator-doc-link.fitted:hover,\n",
       ".sk-estimator-doc-link.fitted:hover {\n",
       "  /* fitted */\n",
       "  background-color: var(--sklearn-color-fitted-level-3);\n",
       "  color: var(--sklearn-color-background);\n",
       "  text-decoration: none;\n",
       "}\n",
       "\n",
       "/* Span, style for the box shown on hovering the info icon */\n",
       ".sk-estimator-doc-link span {\n",
       "  display: none;\n",
       "  z-index: 9999;\n",
       "  position: relative;\n",
       "  font-weight: normal;\n",
       "  right: .2ex;\n",
       "  padding: .5ex;\n",
       "  margin: .5ex;\n",
       "  width: min-content;\n",
       "  min-width: 20ex;\n",
       "  max-width: 50ex;\n",
       "  color: var(--sklearn-color-text);\n",
       "  box-shadow: 2pt 2pt 4pt #999;\n",
       "  /* unfitted */\n",
       "  background: var(--sklearn-color-unfitted-level-0);\n",
       "  border: .5pt solid var(--sklearn-color-unfitted-level-3);\n",
       "}\n",
       "\n",
       ".sk-estimator-doc-link.fitted span {\n",
       "  /* fitted */\n",
       "  background: var(--sklearn-color-fitted-level-0);\n",
       "  border: var(--sklearn-color-fitted-level-3);\n",
       "}\n",
       "\n",
       ".sk-estimator-doc-link:hover span {\n",
       "  display: block;\n",
       "}\n",
       "\n",
       "/* \"?\"-specific style due to the `<a>` HTML tag */\n",
       "\n",
       "#sk-container-id-1 a.estimator_doc_link {\n",
       "  float: right;\n",
       "  font-size: 1rem;\n",
       "  line-height: 1em;\n",
       "  font-family: monospace;\n",
       "  background-color: var(--sklearn-color-background);\n",
       "  border-radius: 1rem;\n",
       "  height: 1rem;\n",
       "  width: 1rem;\n",
       "  text-decoration: none;\n",
       "  /* unfitted */\n",
       "  color: var(--sklearn-color-unfitted-level-1);\n",
       "  border: var(--sklearn-color-unfitted-level-1) 1pt solid;\n",
       "}\n",
       "\n",
       "#sk-container-id-1 a.estimator_doc_link.fitted {\n",
       "  /* fitted */\n",
       "  border: var(--sklearn-color-fitted-level-1) 1pt solid;\n",
       "  color: var(--sklearn-color-fitted-level-1);\n",
       "}\n",
       "\n",
       "/* On hover */\n",
       "#sk-container-id-1 a.estimator_doc_link:hover {\n",
       "  /* unfitted */\n",
       "  background-color: var(--sklearn-color-unfitted-level-3);\n",
       "  color: var(--sklearn-color-background);\n",
       "  text-decoration: none;\n",
       "}\n",
       "\n",
       "#sk-container-id-1 a.estimator_doc_link.fitted:hover {\n",
       "  /* fitted */\n",
       "  background-color: var(--sklearn-color-fitted-level-3);\n",
       "}\n",
       "</style><div id=\"sk-container-id-1\" class=\"sk-top-container\"><div class=\"sk-text-repr-fallback\"><pre>KNeighborsClassifier(n_neighbors=3)</pre><b>In a Jupyter environment, please rerun this cell to show the HTML representation or trust the notebook. <br />On GitHub, the HTML representation is unable to render, please try loading this page with nbviewer.org.</b></div><div class=\"sk-container\" hidden><div class=\"sk-item\"><div class=\"sk-estimator fitted sk-toggleable\"><input class=\"sk-toggleable__control sk-hidden--visually\" id=\"sk-estimator-id-1\" type=\"checkbox\" checked><label for=\"sk-estimator-id-1\" class=\"sk-toggleable__label fitted sk-toggleable__label-arrow fitted\">&nbsp;&nbsp;KNeighborsClassifier<a class=\"sk-estimator-doc-link fitted\" rel=\"noreferrer\" target=\"_blank\" href=\"https://scikit-learn.org/1.4/modules/generated/sklearn.neighbors.KNeighborsClassifier.html\">?<span>Documentation for KNeighborsClassifier</span></a><span class=\"sk-estimator-doc-link fitted\">i<span>Fitted</span></span></label><div class=\"sk-toggleable__content fitted\"><pre>KNeighborsClassifier(n_neighbors=3)</pre></div> </div></div></div></div>"
      ],
      "text/plain": [
       "KNeighborsClassifier(n_neighbors=3)"
      ]
     },
     "execution_count": 31,
     "metadata": {},
     "output_type": "execute_result"
    }
   ],
   "source": [
    "# Create model\n",
    "knn = KNeighborsClassifier(n_neighbors=3)\n",
    "\n",
    "# Fit to dataset\n",
    "knn.fit(X_train, y_train)"
   ]
  },
  {
   "cell_type": "markdown",
   "metadata": {},
   "source": [
    "Lets test our first rendition."
   ]
  },
  {
   "cell_type": "code",
   "execution_count": 32,
   "metadata": {},
   "outputs": [
    {
     "name": "stdout",
     "output_type": "stream",
     "text": [
      "the predicited values are [0 0 0 0 1 0 0 0 0 0 0 1 0 0 0 0 0 0 0 0 0 0 0 0 0 0 0 0 0 0 0 0 0 0 0 0 0\n",
      " 0 0 0 0 0 0 0 0 0 0 0 0 0 0 0 0 0 0 0 0 0 0 0 0 0 0 0 0 0 0 0 0 0 0 0 0 0\n",
      " 0 0 0 0 0 0 0 0 0 0 0 0 0 0 0 0 0 0 0 0 0 0 0 0 0 0 0 1 0 0 0 0 0 0 0 0 0\n",
      " 0 0 0 0 0 1 0 0 0 0 0 0 0 0 0 0 0 0 0 0 0 0 0 0 0 0 0 0 0 0 0 0 0 0 0 0 0\n",
      " 0 0 0 0 0 0 0]\n",
      "The accuracy of the model is: 0.9741935483870968\n"
     ]
    }
   ],
   "source": [
    "# test and evaluate the model\n",
    "y_pred = knn.predict(X_test)\n",
    "\n",
    "print('the predicited values are {}'.format(y_pred))\n",
    "print('The accuracy of the model is: {}'.format(knn.score(X_test, y_test)))"
   ]
  },
  {
   "cell_type": "markdown",
   "metadata": {},
   "source": [
    "Right off the bat, we can see that our model is very accurate!. However, we should still attempt to tune the model. We will use a grid search to tune the n_neighbors and algorithm parameters\n",
    "to see if we can find any improvements."
   ]
  },
  {
   "cell_type": "code",
   "execution_count": 33,
   "metadata": {},
   "outputs": [
    {
     "name": "stdout",
     "output_type": "stream",
     "text": [
      "\n",
      "The best hyperparamteres were: \n",
      "{'algorithm': 'auto', 'n_neighbors': 1}\n",
      "\n",
      "These parameters resulted in the following accuracy score: \n",
      "0.9870049829530553\n"
     ]
    }
   ],
   "source": [
    "# List parameters\n",
    "params = {'n_neighbors': (1, 3, 5, 7, 9, 11, 13, 15, 17, 19, 21),\n",
    "          'algorithm' : ('auto', 'ball_tree', 'kd_tree', 'brute')}\n",
    "\n",
    "# Create new k nearnest neighbors model\n",
    "knn = KNeighborsClassifier()\n",
    "\n",
    "# initialize Grid Search with Cross Validation to tune nearest neighbors value\n",
    "knn_grid = GridSearchCV(estimator = knn, param_grid = params, cv=5, return_train_score=True)\n",
    "knn_grid.fit(X_train, y_train)\n",
    "\n",
    "# Display best paramters\n",
    "print()\n",
    "print(\"The best hyperparamteres were: \")\n",
    "print(knn_grid.best_params_) #print the best parameters\n",
    "\n",
    "# Display best score\n",
    "print()\n",
    "print(\"These parameters resulted in the following accuracy score: \")\n",
    "print(knn_grid.best_score_)  #print the best score\n"
   ]
  },
  {
   "cell_type": "markdown",
   "metadata": {},
   "source": [
    "Tuning shows that the ideal model uses an 'auto' algorithm and 5 neighbors. Right now our model is very accurate, however this could be because it is overfitting to the data. Therefore, we will use our cross validation results to see if\n",
    "there is any overfitting in the data."
   ]
  },
  {
   "cell_type": "code",
   "execution_count": 34,
   "metadata": {},
   "outputs": [
    {
     "data": {
      "text/html": [
       "<div>\n",
       "<style scoped>\n",
       "    .dataframe tbody tr th:only-of-type {\n",
       "        vertical-align: middle;\n",
       "    }\n",
       "\n",
       "    .dataframe tbody tr th {\n",
       "        vertical-align: top;\n",
       "    }\n",
       "\n",
       "    .dataframe thead th {\n",
       "        text-align: right;\n",
       "    }\n",
       "</style>\n",
       "<table border=\"1\" class=\"dataframe\">\n",
       "  <thead>\n",
       "    <tr style=\"text-align: right;\">\n",
       "      <th></th>\n",
       "      <th>mean_train_score</th>\n",
       "      <th>std_train_score</th>\n",
       "      <th>mean_test_score</th>\n",
       "      <th>std_test_score</th>\n",
       "    </tr>\n",
       "  </thead>\n",
       "  <tbody>\n",
       "    <tr>\n",
       "      <th>0</th>\n",
       "      <td>1.000000</td>\n",
       "      <td>0.000000</td>\n",
       "      <td>0.987005</td>\n",
       "      <td>0.003999</td>\n",
       "    </tr>\n",
       "    <tr>\n",
       "      <th>11</th>\n",
       "      <td>1.000000</td>\n",
       "      <td>0.000000</td>\n",
       "      <td>0.987005</td>\n",
       "      <td>0.003999</td>\n",
       "    </tr>\n",
       "    <tr>\n",
       "      <th>33</th>\n",
       "      <td>1.000000</td>\n",
       "      <td>0.000000</td>\n",
       "      <td>0.987005</td>\n",
       "      <td>0.003999</td>\n",
       "    </tr>\n",
       "    <tr>\n",
       "      <th>22</th>\n",
       "      <td>1.000000</td>\n",
       "      <td>0.000000</td>\n",
       "      <td>0.987005</td>\n",
       "      <td>0.003999</td>\n",
       "    </tr>\n",
       "    <tr>\n",
       "      <th>4</th>\n",
       "      <td>0.983767</td>\n",
       "      <td>0.002865</td>\n",
       "      <td>0.982153</td>\n",
       "      <td>0.003173</td>\n",
       "    </tr>\n",
       "  </tbody>\n",
       "</table>\n",
       "</div>"
      ],
      "text/plain": [
       "    mean_train_score  std_train_score  mean_test_score  std_test_score\n",
       "0           1.000000         0.000000         0.987005        0.003999\n",
       "11          1.000000         0.000000         0.987005        0.003999\n",
       "33          1.000000         0.000000         0.987005        0.003999\n",
       "22          1.000000         0.000000         0.987005        0.003999\n",
       "4           0.983767         0.002865         0.982153        0.003173"
      ]
     },
     "execution_count": 34,
     "metadata": {},
     "output_type": "execute_result"
    }
   ],
   "source": [
    "# View bias-varianace scores to determine if data is overfitting\n",
    "cv_results = pd.DataFrame(knn_grid.cv_results_)\n",
    "cv_results = cv_results.sort_values('mean_test_score', ascending=False)\n",
    "cv_results.head()\n",
    "cv_results[['mean_train_score', 'std_train_score', 'mean_test_score', 'std_test_score']].head()"
   ]
  },
  {
   "cell_type": "markdown",
   "metadata": {},
   "source": [
    "Our tuned model shows a very high accuracy in both the training data and the test data, with almost identical standard deviations. This shows that our model is not overfitting and is accurate! As a final test, lets create this model and run a classification report to view its results."
   ]
  },
  {
   "cell_type": "code",
   "execution_count": 35,
   "metadata": {},
   "outputs": [
    {
     "name": "stdout",
     "output_type": "stream",
     "text": [
      "              precision    recall  f1-score   support\n",
      "\n",
      "     Not MVP       0.97      0.99      0.98       147\n",
      "         MVP       0.67      0.50      0.57         8\n",
      "\n",
      "    accuracy                           0.96       155\n",
      "   macro avg       0.82      0.74      0.78       155\n",
      "weighted avg       0.96      0.96      0.96       155\n",
      "\n"
     ]
    }
   ],
   "source": [
    "# Create new k nearnest neighbors model with best parameters\n",
    "knn = KNeighborsClassifier(algorithm='auto', n_neighbors=1)\n",
    "knn.fit(X_train, y_train)\n",
    "y_pred = knn.predict(X_test)\n",
    "\n",
    "# Print classification report\n",
    "print(classification_report(y_test, y_pred, target_names=['Not MVP', 'MVP']))"
   ]
  },
  {
   "cell_type": "markdown",
   "metadata": {},
   "source": [
    "This classification report shows great precision, recall, and F1 scores for our model! The model does a great job at predicting both the Not MVP and MVP category. Interestingly, it is a little worse at predicting the MVPs, which we can see by observing the difference between the f1-scores. Overall, it appears that our KNN model is accurate and reliable at predicting which player will be an MVP or not."
   ]
  },
  {
   "cell_type": "markdown",
   "metadata": {},
   "source": [
    "## Creating a SVM Model\n",
    "\n",
    "Next, we will use a support vector machine model to see if we can improve upon the performance of our previous models. The following code blocks will be used to create, fit, and analyze the performance of this model."
   ]
  },
  {
   "cell_type": "markdown",
   "metadata": {},
   "source": [
    "Because this is a new dataset, lets re-partition our data."
   ]
  },
  {
   "cell_type": "code",
   "execution_count": 36,
   "metadata": {},
   "outputs": [],
   "source": [
    "# split the data\n",
    "X = training_set[['Age', 'G', 'MP', 'FG%', '3P%', 'FT%', 'TRB', 'AST', 'STL', 'BLK', 'PTS']]\n",
    "y = training_set['MVP']\n",
    "\n",
    "# Partition the data into training and test sets (70% train, 30% test)\n",
    "X_train, X_test, y_train, y_test = train_test_split(X, y, test_size=0.3, random_state=7)"
   ]
  },
  {
   "cell_type": "markdown",
   "metadata": {},
   "source": [
    "Next, let's normalize all numeric data in both the training and test sets"
   ]
  },
  {
   "cell_type": "code",
   "execution_count": 37,
   "metadata": {},
   "outputs": [],
   "source": [
    "# First, we need to copy the training and testing data\n",
    "X_train = X_train.copy()\n",
    "X_test  = X_test.copy()\n",
    "\n",
    "#normalize the numeric features\n",
    "scaler = StandardScaler()\n",
    "scaler.fit(X_train[['Age', 'G', 'MP', 'FG%', '3P%', 'FT%', 'TRB', 'AST', 'STL', 'BLK', 'PTS']])\n",
    "scaler.fit(X_test[['Age', 'G', 'MP', 'FG%', '3P%', 'FT%', 'TRB', 'AST', 'STL', 'BLK', 'PTS']])\n",
    "\n",
    "X_train[['Age', 'G', 'MP', 'FG%', '3P%', 'FT%', 'TRB', 'AST', 'STL', 'BLK', 'PTS']] = scaler.transform(X_train[['Age', 'G', 'MP', 'FG%', '3P%', 'FT%', 'TRB', 'AST', 'STL', 'BLK', 'PTS']])\n",
    "X_test[['Age', 'G', 'MP', 'FG%', '3P%', 'FT%', 'TRB', 'AST', 'STL', 'BLK', 'PTS']] = scaler.transform(X_test[['Age', 'G', 'MP', 'FG%', '3P%', 'FT%', 'TRB', 'AST', 'STL', 'BLK', 'PTS']])\n"
   ]
  },
  {
   "cell_type": "markdown",
   "metadata": {},
   "source": [
    "With the training set now prepared, lets create our first rendition and see how it does. For this model, we will choose to not go through with any feature selection to see if we can see any benefits in our model."
   ]
  },
  {
   "cell_type": "code",
   "execution_count": 38,
   "metadata": {},
   "outputs": [
    {
     "name": "stdout",
     "output_type": "stream",
     "text": [
      "The predicted results are: [0 0 0 0 0 0 0 0 0 0 0 0 0 0 0 0 0 0 0 0 0 0 0 0 0 0 0 0 0 0 0 0 0 0 0 0 0\n",
      " 0 0 0 0 0 0 0 0 0 0 0 0 0 0 0 0 0 0 0 0 0 0 0 0 0 0 0 0 0 0 0 0 0 0 0 0 0\n",
      " 0 0 0 0 0 0 0 0 0 0 0 0 0 0 0 0 0 0 0 0 0 0 0 0 0 0 0 0 0 0 0 0 0 0 0 0 0\n",
      " 0 0 0 0 0 0 0 0 0 0 0 0 0 0 0 0 0 0 0 0 0 0 0 0 0 0 0 0 0 0 0 0 0 0 0 0 0\n",
      " 0 0 0 0 0 0 0 0 0 0 0 0 0 0 0 0 0 0 0 0 0 0 0 0 0 0 0 0 0 0 0 0 0 0 0 0 0\n",
      " 0 0 0 0 0 0 0 0 0 0 0 0 0 0 0 0 0 0 0 0 0 0 0 0 0 0 0 0 0 0 0 0 0 0 0 0 0\n",
      " 0 0 0 0 0 0 0 0 0 0]\n",
      "\n",
      "The accuracy of the model is: 0.9525862068965517\n"
     ]
    }
   ],
   "source": [
    "# Create the model and fit it to the training data\n",
    "svm = SVC()\n",
    "svm.fit(X_train, y_train)\n",
    "\n",
    "# Predict the test data \n",
    "y_pred = svm.predict(X_test)\n",
    "\n",
    "print('The predicted results are: {}'.format(y_pred))\n",
    "print()\n",
    "print('The accuracy of the model is: {}'.format(svm.score(X_test, y_test)))"
   ]
  },
  {
   "cell_type": "markdown",
   "metadata": {},
   "source": [
    "This first model shows an accuracy that is slightly lower than our KNN model's tuned accuracy, so we will now go about tuning the model further. To do this, we will again perform a grid search."
   ]
  },
  {
   "cell_type": "code",
   "execution_count": 39,
   "metadata": {},
   "outputs": [
    {
     "name": "stdout",
     "output_type": "stream",
     "text": [
      "\n",
      "The best hyperparamteres were: \n",
      "{'degree': 5, 'gamma': 'scale', 'kernel': 'poly'}\n",
      "\n",
      "These parameters resulted in the following accuracy score: \n",
      "0.988871581862236\n"
     ]
    }
   ],
   "source": [
    "# List parameters\n",
    "params = {'gamma': ('scale', 'auto'),\n",
    "          'degree': (1, 2, 3, 4, 5),\n",
    "          'kernel' : ('linear', 'poly', 'sigmoid', 'rbf')}\n",
    "\n",
    "# Create new k nearnest neighbors model\n",
    "svm = SVC()\n",
    "\n",
    "# initialize Grid Search with Cross Validation to tune nearest neighbors value\n",
    "svm_grid = GridSearchCV(estimator = svm, param_grid = params, cv=5, return_train_score=True)\n",
    "svm_grid.fit(X_train, y_train)\n",
    "\n",
    "# Display best paramters\n",
    "print()\n",
    "print(\"The best hyperparamteres were: \")\n",
    "print(svm_grid.best_params_) #print the best parameters\n",
    "\n",
    "# Display best score\n",
    "print()\n",
    "print(\"These parameters resulted in the following accuracy score: \")\n",
    "print(svm_grid.best_score_)  #print the best score"
   ]
  },
  {
   "cell_type": "markdown",
   "metadata": {},
   "source": [
    "We can see that our tuned model with the parameters of degree = 1, gamma = scale, and kernel = poly produces a result with higher accuracy. However, we now need to ensure that our model is not overfitting to the training data."
   ]
  },
  {
   "cell_type": "code",
   "execution_count": 40,
   "metadata": {},
   "outputs": [
    {
     "data": {
      "text/html": [
       "<div>\n",
       "<style scoped>\n",
       "    .dataframe tbody tr th:only-of-type {\n",
       "        vertical-align: middle;\n",
       "    }\n",
       "\n",
       "    .dataframe tbody tr th {\n",
       "        vertical-align: top;\n",
       "    }\n",
       "\n",
       "    .dataframe thead th {\n",
       "        text-align: right;\n",
       "    }\n",
       "</style>\n",
       "<table border=\"1\" class=\"dataframe\">\n",
       "  <thead>\n",
       "    <tr style=\"text-align: right;\">\n",
       "      <th></th>\n",
       "      <th>mean_train_score</th>\n",
       "      <th>std_train_score</th>\n",
       "      <th>mean_test_score</th>\n",
       "      <th>std_test_score</th>\n",
       "    </tr>\n",
       "  </thead>\n",
       "  <tbody>\n",
       "    <tr>\n",
       "      <th>37</th>\n",
       "      <td>1.000000</td>\n",
       "      <td>0.000000</td>\n",
       "      <td>0.988872</td>\n",
       "      <td>0.003695</td>\n",
       "    </tr>\n",
       "    <tr>\n",
       "      <th>33</th>\n",
       "      <td>1.000000</td>\n",
       "      <td>0.000000</td>\n",
       "      <td>0.988872</td>\n",
       "      <td>0.003695</td>\n",
       "    </tr>\n",
       "    <tr>\n",
       "      <th>13</th>\n",
       "      <td>0.993044</td>\n",
       "      <td>0.001461</td>\n",
       "      <td>0.987002</td>\n",
       "      <td>0.009463</td>\n",
       "    </tr>\n",
       "    <tr>\n",
       "      <th>29</th>\n",
       "      <td>1.000000</td>\n",
       "      <td>0.000000</td>\n",
       "      <td>0.985151</td>\n",
       "      <td>0.004565</td>\n",
       "    </tr>\n",
       "    <tr>\n",
       "      <th>25</th>\n",
       "      <td>1.000000</td>\n",
       "      <td>0.000000</td>\n",
       "      <td>0.985151</td>\n",
       "      <td>0.004565</td>\n",
       "    </tr>\n",
       "  </tbody>\n",
       "</table>\n",
       "</div>"
      ],
      "text/plain": [
       "    mean_train_score  std_train_score  mean_test_score  std_test_score\n",
       "37          1.000000         0.000000         0.988872        0.003695\n",
       "33          1.000000         0.000000         0.988872        0.003695\n",
       "13          0.993044         0.001461         0.987002        0.009463\n",
       "29          1.000000         0.000000         0.985151        0.004565\n",
       "25          1.000000         0.000000         0.985151        0.004565"
      ]
     },
     "execution_count": 40,
     "metadata": {},
     "output_type": "execute_result"
    }
   ],
   "source": [
    "# View bias-varianace scores to determine if data is overfitting\n",
    "cv_results = pd.DataFrame(svm_grid.cv_results_)\n",
    "cv_results = cv_results.sort_values('mean_test_score', ascending=False)\n",
    "cv_results.head()\n",
    "cv_results[['mean_train_score', 'std_train_score', 'mean_test_score', 'std_test_score']].head()"
   ]
  },
  {
   "cell_type": "markdown",
   "metadata": {},
   "source": [
    "Our tuned model shows a very high accuracy in both the training data and the test data, with almost identical standard deviations. This shows that our model is not overfitting and is accurate! As a final test, lets create this model and run a classification report to view its results."
   ]
  },
  {
   "cell_type": "code",
   "execution_count": 41,
   "metadata": {},
   "outputs": [
    {
     "name": "stdout",
     "output_type": "stream",
     "text": [
      "              precision    recall  f1-score   support\n",
      "\n",
      "     Not MVP       0.98      0.99      0.98       221\n",
      "         MVP       0.70      0.64      0.67        11\n",
      "\n",
      "    accuracy                           0.97       232\n",
      "   macro avg       0.84      0.81      0.83       232\n",
      "weighted avg       0.97      0.97      0.97       232\n",
      "\n"
     ]
    }
   ],
   "source": [
    "# Create new k nearnest neighbors model with best parameters\n",
    "svc = SVC(degree=4, gamma='scale', kernel='poly')\n",
    "svc.fit(X_train, y_train)\n",
    "y_pred = svc.predict(X_test)\n",
    "\n",
    "# Print classification report\n",
    "print(classification_report(y_test, y_pred, target_names=['Not MVP', 'MVP']))"
   ]
  },
  {
   "cell_type": "markdown",
   "metadata": {},
   "source": [
    "Interestingly, our classification results are mostly positive. The model did a great job determining which players are not MVPs. However, it was only decent at determining the MVPs, as the precision, recall, and f1-score for predicting this classification was significantly smaller than that of predicting the non MVPs. Overall, the model still does a good job at classifying the players."
   ]
  },
  {
   "cell_type": "markdown",
   "metadata": {},
   "source": [
    "## Creating a Decision Tree model\n",
    "\n",
    "Now, we will use a decision tree model to see if we can improve upon the performance of our previous models. The following code blocks will be used to create, fit, and analyze the performance of this model."
   ]
  },
  {
   "cell_type": "markdown",
   "metadata": {},
   "source": [
    "Again, lets re-partition our data."
   ]
  },
  {
   "cell_type": "code",
   "execution_count": 42,
   "metadata": {},
   "outputs": [],
   "source": [
    "# Split the data\n",
    "X = training_set[['Age', 'G', 'MP', 'FG%', '3P%', 'FT%', 'TRB', 'AST', 'STL', 'BLK', 'PTS']]\n",
    "y = training_set['MVP']\n",
    "\n",
    "# Splitting the dataset into training and testing sets\n",
    "X_train, X_test, y_train, y_test = train_test_split(X, y, test_size=0.2, random_state=42)"
   ]
  },
  {
   "cell_type": "markdown",
   "metadata": {},
   "source": [
    "For this decision tree model, we will also choose to not go through with any feature selection. Let's create the model, train it, and evaluate it's accuracy."
   ]
  },
  {
   "cell_type": "code",
   "execution_count": 43,
   "metadata": {
    "scrolled": true
   },
   "outputs": [
    {
     "name": "stdout",
     "output_type": "stream",
     "text": [
      "The accuracy of the model is: 0.9870967741935484\n",
      "\n",
      "The predicted results are: [0 0 0 0 0 0 0 0 0 0 0 0 0 0 0 0 0 0 0 0 0 0 0 0 0 0 0 0 0 0 0 0 0 0 0 0 0\n",
      " 0 0 0 0 1 0 0 0 0 0 0 0 0 0 0 1 0 0 0 0 0 0 0 1 1 0 0 0 0 0 0 0 0 0 0 0 0\n",
      " 0 0 0 0 0 0 0 0 0 0 0 0 0 0 0 0 0 0 0 0 0 0 0 0 0 0 0 0 0 0 0 0 1 0 0 0 0\n",
      " 0 0 0 0 0 0 0 0 0 0 0 0 0 0 1 0 0 0 0 0 0 0 0 0 0 0 0 0 0 0 0 1 0 0 0 0 0\n",
      " 0 0 0 0 0 0 0]\n"
     ]
    }
   ],
   "source": [
    "# Creating the Decision Tree model\n",
    "dt = DecisionTreeClassifier(random_state=42)\n",
    "\n",
    "# Training the model\n",
    "dt.fit(X_train, y_train)\n",
    "\n",
    "# Making predictions\n",
    "y_pred = dt.predict(X_test)\n",
    "\n",
    "# Evaluating the model\n",
    "print('The accuracy of the model is: {}'.format(dt.score(X_test, y_test)))\n",
    "print()\n",
    "print('The predicted results are: {}'.format(y_pred))"
   ]
  },
  {
   "cell_type": "markdown",
   "metadata": {},
   "source": [
    "We can see that our decision tree model is very accurate!. However, we should still attempt to tune the model so we can compare it to our other tuned models. We will use a grid search to tune the hyperparameters to see if we can find any improvements."
   ]
  },
  {
   "cell_type": "code",
   "execution_count": 44,
   "metadata": {},
   "outputs": [
    {
     "name": "stdout",
     "output_type": "stream",
     "text": [
      "\n",
      "The best hyperparameters were: \n",
      "{'criterion': 'gini', 'max_depth': None, 'min_samples_leaf': 1, 'min_samples_split': 10}\n",
      "\n",
      "These parameters resulted in the following accuracy score: \n",
      "0.9902570154733805\n"
     ]
    }
   ],
   "source": [
    "# List parameters\n",
    "param_grid = {\n",
    "    'max_depth': [None, 10, 20, 30, 40, 50],\n",
    "    'min_samples_split': [2, 10, 20],\n",
    "    'min_samples_leaf': [1, 5, 10],\n",
    "    'criterion': ['gini', 'entropy']\n",
    "}\n",
    "\n",
    "dt = DecisionTreeClassifier(random_state=42)\n",
    "\n",
    "# Use GridSearch\n",
    "dt_grid = GridSearchCV(dt, param_grid, cv=5, return_train_score=True)\n",
    "dt_grid.fit(X_train, y_train)\n",
    "\n",
    "# Display best parameters\n",
    "print()\n",
    "print(\"The best hyperparameters were: \")\n",
    "print(dt_grid.best_params_) #print the best parameters\n",
    "\n",
    "# Display best score\n",
    "print()\n",
    "print(\"These parameters resulted in the following accuracy score: \")\n",
    "print(dt_grid.best_score_)  #print the best score"
   ]
  },
  {
   "cell_type": "markdown",
   "metadata": {},
   "source": [
    "Our tuned model has parameters of criterion = 'gini', max_depth = None, min_samples_leaf = 1 and min_samples_split = 2. The parameters produces a result with higher accuracy of 0.99 as compared to the previous 0.98. However, we now need to ensure that our model is not overfitting to the training data."
   ]
  },
  {
   "cell_type": "code",
   "execution_count": 45,
   "metadata": {
    "scrolled": true
   },
   "outputs": [
    {
     "data": {
      "text/html": [
       "<div>\n",
       "<style scoped>\n",
       "    .dataframe tbody tr th:only-of-type {\n",
       "        vertical-align: middle;\n",
       "    }\n",
       "\n",
       "    .dataframe tbody tr th {\n",
       "        vertical-align: top;\n",
       "    }\n",
       "\n",
       "    .dataframe thead th {\n",
       "        text-align: right;\n",
       "    }\n",
       "</style>\n",
       "<table border=\"1\" class=\"dataframe\">\n",
       "  <thead>\n",
       "    <tr style=\"text-align: right;\">\n",
       "      <th></th>\n",
       "      <th>mean_train_score</th>\n",
       "      <th>std_train_score</th>\n",
       "      <th>mean_test_score</th>\n",
       "      <th>std_test_score</th>\n",
       "    </tr>\n",
       "  </thead>\n",
       "  <tbody>\n",
       "    <tr>\n",
       "      <th>20</th>\n",
       "      <td>0.992289</td>\n",
       "      <td>0.002366</td>\n",
       "      <td>0.990257</td>\n",
       "      <td>0.009484</td>\n",
       "    </tr>\n",
       "    <tr>\n",
       "      <th>1</th>\n",
       "      <td>0.992289</td>\n",
       "      <td>0.002366</td>\n",
       "      <td>0.990257</td>\n",
       "      <td>0.009484</td>\n",
       "    </tr>\n",
       "    <tr>\n",
       "      <th>2</th>\n",
       "      <td>0.992289</td>\n",
       "      <td>0.002366</td>\n",
       "      <td>0.990257</td>\n",
       "      <td>0.009484</td>\n",
       "    </tr>\n",
       "    <tr>\n",
       "      <th>38</th>\n",
       "      <td>0.992289</td>\n",
       "      <td>0.002366</td>\n",
       "      <td>0.990257</td>\n",
       "      <td>0.009484</td>\n",
       "    </tr>\n",
       "    <tr>\n",
       "      <th>37</th>\n",
       "      <td>0.992289</td>\n",
       "      <td>0.002366</td>\n",
       "      <td>0.990257</td>\n",
       "      <td>0.009484</td>\n",
       "    </tr>\n",
       "  </tbody>\n",
       "</table>\n",
       "</div>"
      ],
      "text/plain": [
       "    mean_train_score  std_train_score  mean_test_score  std_test_score\n",
       "20          0.992289         0.002366         0.990257        0.009484\n",
       "1           0.992289         0.002366         0.990257        0.009484\n",
       "2           0.992289         0.002366         0.990257        0.009484\n",
       "38          0.992289         0.002366         0.990257        0.009484\n",
       "37          0.992289         0.002366         0.990257        0.009484"
      ]
     },
     "execution_count": 45,
     "metadata": {},
     "output_type": "execute_result"
    }
   ],
   "source": [
    "# View bias-varianace scores to determine if data is overfitting\n",
    "cv_results = pd.DataFrame(dt_grid.cv_results_)\n",
    "cv_results = cv_results.sort_values('mean_test_score', ascending=False)\n",
    "cv_results.head()\n",
    "cv_results[['mean_train_score', 'std_train_score', 'mean_test_score', 'std_test_score']].head()"
   ]
  },
  {
   "cell_type": "markdown",
   "metadata": {},
   "source": [
    "Our tuned model shows a very high and similar accuracy in the training data and test data, meaning the model is not overfitting. As a final test, lets create this model and run a classification report to view its results."
   ]
  },
  {
   "cell_type": "code",
   "execution_count": 46,
   "metadata": {},
   "outputs": [
    {
     "name": "stdout",
     "output_type": "stream",
     "text": [
      "              precision    recall  f1-score   support\n",
      "\n",
      "     Not MVP       1.00      0.99      0.99       150\n",
      "         MVP       0.71      1.00      0.83         5\n",
      "\n",
      "    accuracy                           0.99       155\n",
      "   macro avg       0.86      0.99      0.91       155\n",
      "weighted avg       0.99      0.99      0.99       155\n",
      "\n"
     ]
    }
   ],
   "source": [
    "# Create new decision tree model with best parameters\n",
    "dt = DecisionTreeClassifier(criterion='gini', max_depth=None, min_samples_leaf=1, min_samples_split=2)\n",
    "dt.fit(X_train, y_train)\n",
    "y_pred = dt.predict(X_test)\n",
    "\n",
    "# Classification Report\n",
    "print(classification_report(y_test, y_pred, target_names=['Not MVP', 'MVP']))"
   ]
  },
  {
   "cell_type": "markdown",
   "metadata": {},
   "source": [
    "The model did a great job determining which players are not MVPs and are MVPS. However, the model is moderately better at determing players that aren't MVP rather than are MVP. The precision and f1-score for predicting MVP was significantly smaller than that of predicting the non MVPs, but the recall score was slightly higher for MVP than not MVP. Overall, the model does a great job at classifying MVP players."
   ]
  },
  {
   "cell_type": "markdown",
   "metadata": {},
   "source": [
    "## Impacts\n",
    "\n",
    "Our models aim to accomplish one main task which is to classify a player as either being worthy of the MVP award or not. This model could even help current MVP voters narrow down their pool of potential candidates down to those who are statistically worthy, followed by a personal selection using possibly their own bias in their final decision. \n",
    "\n",
    "The model can also be capable of checking whether or not players in past seasons should have been given more consideration for the award. Often at the end of an NBA season, there is a lot of discourse regarding the player that deserves the award the most, so by using the tool, pure statistics can be used to predict and justify a winner.\n"
   ]
  },
  {
   "cell_type": "markdown",
   "metadata": {},
   "source": [
    "## Conclusion\n",
    "\n",
    "By creating multiple machine learning models including KNN, SVM, and a decision tree model, we were able to develop more of an understanding of how the MVP is chosen and which statistics tend to be the most important. We were able to see that the decision tree model was the most accurate and predicted non-MVP winners with 100 percent precision and MVP winners with 71 percent precision. The recall score is close to 100 percent for both classifications as well. These statistics come in just over those of the SVM model which spits out statistics just over the KNN model.\n",
    "\n",
    "With such strong precision and recall scores, we are confident in the decision tree model’s capabilities as a predictor and classifier for NBA MVP winners and can show the multiple use cases for the model. With this model, not only can past MVPs be either validated or invalided in their MVP decision but also serve as a reliable predictor for players who might be deserving of the award.\n",
    "\n",
    "Overall, we achieved what we set out to do in creating a model capable of classifying a given NBA player into MVP worthy or not. We were able to analyze different types of machine learning models and choose the most accurate one, the decision tree model. In the process of developing these models, we were also able to discover which features and statistics were most impactful in MVP voting. We were also able to uncover which MVP winners might have been more controversial while looking at their competitors.\n",
    "\n",
    "In terms of future adjustments, something to consider is the competition for the award within the NBA. Our model is able to predict those worthy of the award in terms of statistics, if fed a single player. We might want to add functionality to feed the model an entire data set for a season’s data. This way, the model might be able to compare players to each other and decide on the winner of the MVP award in more of a relative fashion. For example, if every player in the NBA underperforms significantly in a season, the model might tell us that no player in that year is deserving of the award, while in reality, the player who performs the best, despite everyone’s statistical drop-off, would be the winner.\n",
    "\n"
   ]
  }
 ],
 "metadata": {
  "kernelspec": {
   "display_name": "Python 3 (ipykernel)",
   "language": "python",
   "name": "python3"
  },
  "language_info": {
   "codemirror_mode": {
    "name": "ipython",
    "version": 3
   },
   "file_extension": ".py",
   "mimetype": "text/x-python",
   "name": "python",
   "nbconvert_exporter": "python",
   "pygments_lexer": "ipython3",
   "version": "3.10.11"
  }
 },
 "nbformat": 4,
 "nbformat_minor": 4
}
